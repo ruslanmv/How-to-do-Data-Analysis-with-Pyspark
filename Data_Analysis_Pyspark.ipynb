{
 "cells": [
  {
   "cell_type": "markdown",
   "metadata": {
    "id": "KoqPBdxxuPMF"
   },
   "source": [
    "# **Data Analysis with Pyspark**\n",
    "\n",
    "I this notebook we will focus first in the anomaly detection of dataset.\n"
   ]
  },
  {
   "cell_type": "markdown",
   "metadata": {},
   "source": [
    "## Step 1. Pyspark Installation\n",
    "\n",
    "If you have installed pyspark before you can skip this step.\n"
   ]
  },
  {
   "cell_type": "code",
   "execution_count": 1,
   "metadata": {},
   "outputs": [],
   "source": [
    "# Import the os module\n",
    "import os\n",
    "import requests\n",
    "import wget\n",
    "from tqdm import tqdm"
   ]
  },
  {
   "cell_type": "code",
   "execution_count": 2,
   "metadata": {},
   "outputs": [],
   "source": [
    "def download(url: str, fname: str):\n",
    "    resp = requests.get(url, stream=True)\n",
    "    total = int(resp.headers.get('content-length', 0))\n",
    "    # Can also replace 'file' with a io.BytesIO object\n",
    "    with open(fname, 'wb') as file, tqdm(\n",
    "        desc=fname,\n",
    "        total=total,\n",
    "        unit='iB',\n",
    "        unit_scale=True,\n",
    "        unit_divisor=1024,\n",
    "    ) as bar:\n",
    "        for data in resp.iter_content(chunk_size=1024):\n",
    "            size = file.write(data)\n",
    "            bar.update(size)"
   ]
  },
  {
   "cell_type": "code",
   "execution_count": 3,
   "metadata": {},
   "outputs": [],
   "source": [
    "#import zipfile module\n",
    "from zipfile import ZipFile\n",
    "def extract_zip(filename):\n",
    "    with ZipFile(filename, 'r') as f:\n",
    "        #extract in current directory\n",
    "        f.extractall()"
   ]
  },
  {
   "cell_type": "code",
   "execution_count": 4,
   "metadata": {},
   "outputs": [],
   "source": [
    "# importing the \"tarfile\" module\n",
    "import tarfile\n",
    "def extract_tar(filename):\n",
    "    # open file\n",
    "    file = tarfile.open(filename)\n",
    "    # extracting file\n",
    "    file.extractall()\n",
    "    file.close()"
   ]
  },
  {
   "cell_type": "markdown",
   "metadata": {},
   "source": [
    "## Spark 3.3.2 Installation"
   ]
  },
  {
   "cell_type": "code",
   "execution_count": 52,
   "metadata": {},
   "outputs": [
    {
     "name": "stderr",
     "output_type": "stream",
     "text": [
      "spark-3.3.2-bin-hadoop3.tgz: 100%|█████████████████████████████████████████████████| 285M/285M [00:13<00:00, 22.9MiB/s]\n"
     ]
    }
   ],
   "source": [
    "SPARK_FILE=\"spark-3.3.2-bin-hadoop3.tgz\"\n",
    "URL = \"https://dlcdn.apache.org/spark/spark-3.3.2/spark-3.3.2-bin-hadoop3.tgz\"\n",
    "#response = wget.download(URL, SPARK_FILE)\n",
    "download(URL,SPARK_FILE)"
   ]
  },
  {
   "cell_type": "code",
   "execution_count": 4,
   "metadata": {},
   "outputs": [],
   "source": [
    "# Path\n",
    "home = os.getcwd()\n",
    "# Print the current working directory\n",
    "#print(\"Current working directory: {0}\".format(home))"
   ]
  },
  {
   "cell_type": "code",
   "execution_count": 54,
   "metadata": {},
   "outputs": [],
   "source": [
    "#set filename\n",
    "fpath = os.path.join(home, SPARK_FILE)"
   ]
  },
  {
   "cell_type": "code",
   "execution_count": 55,
   "metadata": {},
   "outputs": [],
   "source": [
    "extract_tar(fpath)"
   ]
  },
  {
   "cell_type": "code",
   "execution_count": 56,
   "metadata": {},
   "outputs": [],
   "source": [
    "if os.name == 'nt':\n",
    "\n",
    "    !del spark-3.3.2-bin-hadoop3.tgz\n",
    "else:\n",
    "\n",
    "    !rm spark-3.3.2-bin-hadoop3.tgz"
   ]
  },
  {
   "cell_type": "markdown",
   "metadata": {},
   "source": [
    "## Java 11 Installation"
   ]
  },
  {
   "cell_type": "code",
   "execution_count": 57,
   "metadata": {},
   "outputs": [],
   "source": [
    "if os.name == 'nt':\n",
    "    url_java='https://builds.openlogic.com/downloadJDK/openlogic-openjdk/11.0.18+10/openlogic-openjdk-11.0.18+10-windows-x64.zip'\n",
    "    JAVA_FILE='openjdk-11.zip'\n",
    "else:\n",
    "    JAVA_FILE='openjdk-11.tar.gz'\n",
    "    url_java='https://builds.openlogic.com/downloadJDK/openlogic-openjdk/11.0.18+10/openlogic-openjdk-11.0.18+10-linux-x64.tar.gz'"
   ]
  },
  {
   "cell_type": "code",
   "execution_count": 58,
   "metadata": {},
   "outputs": [
    {
     "name": "stderr",
     "output_type": "stream",
     "text": [
      "openjdk-11.zip: 100%|██████████████████████████████████████████████████████████████| 214M/214M [00:07<00:00, 31.6MiB/s]\n"
     ]
    }
   ],
   "source": [
    "download(url_java,JAVA_FILE)"
   ]
  },
  {
   "cell_type": "code",
   "execution_count": 64,
   "metadata": {},
   "outputs": [
    {
     "name": "stdout",
     "output_type": "stream",
     "text": [
      "\n"
     ]
    }
   ],
   "source": [
    "try:\n",
    "    if os.name == 'nt':\n",
    "        extract_zip(JAVA_FILE)\n",
    "        !del openjdk-11.zip\n",
    "    else:\n",
    "        extract_tar(JAVA_FILE)\n",
    "        !rm openjdk-11.tar.gz\n",
    "except:\n",
    "    print(\"\")"
   ]
  },
  {
   "cell_type": "markdown",
   "metadata": {},
   "source": [
    "## Enviroment setup of Spark"
   ]
  },
  {
   "cell_type": "code",
   "execution_count": 7,
   "metadata": {},
   "outputs": [],
   "source": [
    "import os\n",
    "# Path\n",
    "home = os.getcwd()\n",
    "JAVA_FOLDER='openlogic-openjdk-11.0.18+10-windows-x64'\n",
    "#set filename\n",
    "JAVA_HOME = os.path.join(home, JAVA_FOLDER)\n",
    "SPARK_FOLDER='spark-3.3.2-bin-hadoop3'\n",
    "#set filename\n",
    "SPARK_HOME = os.path.join(home, SPARK_FOLDER)"
   ]
  },
  {
   "cell_type": "code",
   "execution_count": 8,
   "metadata": {},
   "outputs": [],
   "source": [
    "import os\n",
    "os.environ['JAVA_HOME']=JAVA_HOME\n",
    "os.environ['SPARK_HOME']=SPARK_HOME"
   ]
  },
  {
   "cell_type": "markdown",
   "metadata": {},
   "source": [
    "# Step 2 Importing the necessary libraries"
   ]
  },
  {
   "cell_type": "code",
   "execution_count": 9,
   "metadata": {
    "id": "sZIysPUuVy78"
   },
   "outputs": [],
   "source": [
    "import pyspark\n",
    "import seaborn as sns\n",
    "import matplotlib.pyplot as plt\n",
    "from pyspark.sql import SparkSession"
   ]
  },
  {
   "cell_type": "markdown",
   "metadata": {
    "id": "j9A5BTT-u8oH"
   },
   "source": [
    "### Creating a Spark Session"
   ]
  },
  {
   "cell_type": "code",
   "execution_count": 10,
   "metadata": {
    "colab": {
     "base_uri": "https://localhost:8080/",
     "height": 219
    },
    "id": "ugZFRBtPLIId",
    "outputId": "dca80209-c37b-4272-9929-295a65a44bf6"
   },
   "outputs": [
    {
     "data": {
      "text/html": [
       "\n",
       "            <div>\n",
       "                <p><b>SparkSession - in-memory</b></p>\n",
       "                \n",
       "        <div>\n",
       "            <p><b>SparkContext</b></p>\n",
       "\n",
       "            <p><a href=\"http://Blade.homenet.telecomitalia.it:4040\">Spark UI</a></p>\n",
       "\n",
       "            <dl>\n",
       "              <dt>Version</dt>\n",
       "                <dd><code>v3.3.2</code></dd>\n",
       "              <dt>Master</dt>\n",
       "                <dd><code>local[*]</code></dd>\n",
       "              <dt>AppName</dt>\n",
       "                <dd><code>Data Analysis</code></dd>\n",
       "            </dl>\n",
       "        </div>\n",
       "        \n",
       "            </div>\n",
       "        "
      ],
      "text/plain": [
       "<pyspark.sql.session.SparkSession at 0x1acde37ec50>"
      ]
     },
     "execution_count": 10,
     "metadata": {},
     "output_type": "execute_result"
    }
   ],
   "source": [
    "spark = SparkSession.builder.appName('Data Analysis').getOrCreate()\n",
    "spark"
   ]
  },
  {
   "cell_type": "markdown",
   "metadata": {},
   "source": [
    "## Step 3. Begin Analysis "
   ]
  },
  {
   "cell_type": "markdown",
   "metadata": {
    "id": "lairZ41YvEor"
   },
   "source": [
    "### Reading the dataset  using spark session"
   ]
  },
  {
   "cell_type": "code",
   "execution_count": 11,
   "metadata": {
    "colab": {
     "base_uri": "https://localhost:8080/"
    },
    "id": "6RLsnyDvLPbV",
    "outputId": "f46a837a-f40a-413a-ee9a-7b9ea82e773b"
   },
   "outputs": [
    {
     "name": "stdout",
     "output_type": "stream",
     "text": [
      "+--------------------+----------------+------------------+-----------+--------------------+----------+-----+\n",
      "|    Customer_subtype|Number_of_houses|Avg_size_household|    Avg_age|  Customer_main_type|Avg_Salary|label|\n",
      "+--------------------+----------------+------------------+-----------+--------------------+----------+-----+\n",
      "|Lower class large...|               1|                 3|30-40 years|Family with grown...|     44905|    0|\n",
      "|Mixed small town ...|               1|                 2|30-40 years|Family with grown...|     37575|    0|\n",
      "|Mixed small town ...|               1|                 2|30-40 years|Family with grown...|     27915|    0|\n",
      "|Modern, complete ...|               1|                 3|40-50 years|      Average Family|     19504|    0|\n",
      "|  Large family farms|               1|                 4|30-40 years|             Farmers|     34943|    0|\n",
      "|    Young and rising|               1|                 2|20-30 years|         Living well|     13064|    0|\n",
      "|Large religious f...|               2|                 3|30-40 years|Conservative fami...|     29090|    0|\n",
      "|Lower class large...|               1|                 2|40-50 years|Family with grown...|      6895|    0|\n",
      "|Lower class large...|               1|                 2|50-60 years|Family with grown...|     35497|    0|\n",
      "|     Family starters|               2|                 3|40-50 years|      Average Family|     30800|    0|\n",
      "|       Stable family|               1|                 4|40-50 years|      Average Family|     39157|    0|\n",
      "|Modern, complete ...|               1|                 3|40-50 years|      Average Family|     40839|    0|\n",
      "|Lower class large...|               1|                 2|40-50 years|Family with grown...|     30008|    0|\n",
      "|        Mixed rurals|               1|                 3|40-50 years|             Farmers|     37209|    0|\n",
      "|    Young and rising|               1|                 1|30-40 years|         Living well|     45361|    0|\n",
      "|Lower class large...|               1|                 2|40-50 years|Family with grown...|     45650|    0|\n",
      "|Traditional families|               1|                 2|40-50 years|Conservative fami...|     18982|    0|\n",
      "|Mixed apartment d...|               2|                 3|40-50 years|         Living well|     30093|    0|\n",
      "|Young all america...|               1|                 4|30-40 years|      Average Family|     27097|    0|\n",
      "|Low income catholics|               1|                 2|50-60 years|Retired and Relig...|     23511|    0|\n",
      "+--------------------+----------------+------------------+-----------+--------------------+----------+-----+\n",
      "only showing top 20 rows\n",
      "\n"
     ]
    }
   ],
   "source": [
    "df = spark.read.csv('customer_data.csv',header = True)\n",
    "df.show()"
   ]
  },
  {
   "cell_type": "markdown",
   "metadata": {},
   "source": [
    "### Get DataFrame Schema\n",
    "Printing the schema, to check the datatypes"
   ]
  },
  {
   "cell_type": "code",
   "execution_count": 12,
   "metadata": {},
   "outputs": [
    {
     "name": "stdout",
     "output_type": "stream",
     "text": [
      "root\n",
      " |-- Customer_subtype: string (nullable = true)\n",
      " |-- Number_of_houses: string (nullable = true)\n",
      " |-- Avg_size_household: string (nullable = true)\n",
      " |-- Avg_age: string (nullable = true)\n",
      " |-- Customer_main_type: string (nullable = true)\n",
      " |-- Avg_Salary: string (nullable = true)\n",
      " |-- label: string (nullable = true)\n",
      "\n"
     ]
    }
   ],
   "source": [
    "df.printSchema()"
   ]
  },
  {
   "cell_type": "markdown",
   "metadata": {},
   "source": [
    "First at all  found the following issues:\n",
    "1. All the columns are defined as strings datatypes\n",
    "2. There are categorical fields that should be indentifed\n",
    "3. There are columns that have to be converted into numerical data types"
   ]
  },
  {
   "cell_type": "markdown",
   "metadata": {
    "id": "hjs0kal9vRGJ"
   },
   "source": [
    "### Counting the number of records"
   ]
  },
  {
   "cell_type": "code",
   "execution_count": 13,
   "metadata": {
    "colab": {
     "base_uri": "https://localhost:8080/"
    },
    "id": "Jyfd2JIrLYzm",
    "outputId": "4156812d-2f70-4040-d56a-2eebca8f7e28"
   },
   "outputs": [
    {
     "data": {
      "text/plain": [
       "2000"
      ]
     },
     "execution_count": 13,
     "metadata": {},
     "output_type": "execute_result"
    }
   ],
   "source": [
    "df.count()"
   ]
  },
  {
   "cell_type": "markdown",
   "metadata": {
    "id": "Ww3KtDR2vVyb"
   },
   "source": [
    "### Checking the number of columns"
   ]
  },
  {
   "cell_type": "code",
   "execution_count": 14,
   "metadata": {
    "colab": {
     "base_uri": "https://localhost:8080/"
    },
    "id": "dsRqNWcILfS-",
    "outputId": "15ebf153-cb94-40fa-b713-dc3e14d25305"
   },
   "outputs": [
    {
     "data": {
      "text/plain": [
       "7"
      ]
     },
     "execution_count": 14,
     "metadata": {},
     "output_type": "execute_result"
    }
   ],
   "source": [
    "len(df.columns)"
   ]
  },
  {
   "cell_type": "markdown",
   "metadata": {},
   "source": [
    "## Identifying Data types columns"
   ]
  },
  {
   "cell_type": "code",
   "execution_count": 15,
   "metadata": {},
   "outputs": [
    {
     "name": "stdout",
     "output_type": "stream",
     "text": [
      "Customer_subtype , string\n",
      "Number_of_houses , string\n",
      "Avg_size_household , string\n",
      "Avg_age , string\n",
      "Customer_main_type , string\n",
      "Avg_Salary , string\n",
      "label , string\n"
     ]
    }
   ],
   "source": [
    "#Get All column names and it's types\n",
    "for col in df.dtypes:\n",
    "    print(col[0]+\" , \"+col[1])"
   ]
  },
  {
   "cell_type": "code",
   "execution_count": 16,
   "metadata": {},
   "outputs": [
    {
     "name": "stdout",
     "output_type": "stream",
     "text": [
      "['Customer_subtype', 'Number_of_houses', 'Avg_size_household', 'Avg_age', 'Customer_main_type', 'Avg_Salary', 'label']\n"
     ]
    }
   ],
   "source": [
    "#store all column names in a list\n",
    "allCols = [item[0] for item in df.dtypes]\n",
    "print(allCols)"
   ]
  },
  {
   "cell_type": "code",
   "execution_count": 17,
   "metadata": {},
   "outputs": [
    {
     "name": "stdout",
     "output_type": "stream",
     "text": [
      "['Customer_subtype', 'Number_of_houses', 'Avg_size_household', 'Avg_age', 'Customer_main_type', 'Avg_Salary', 'label']\n"
     ]
    }
   ],
   "source": [
    "#store all column names that are categorical in a list\n",
    "categoricalCols = [item[0] for item in df.dtypes if item[1].startswith('string')]\n",
    "print(categoricalCols)"
   ]
  },
  {
   "cell_type": "code",
   "execution_count": 18,
   "metadata": {},
   "outputs": [
    {
     "name": "stdout",
     "output_type": "stream",
     "text": [
      "[]\n"
     ]
    }
   ],
   "source": [
    "#store all column names that are continous in a list\n",
    "continuousCols =[item[0] for item in df.dtypes if item[1].startswith('bigint')]\n",
    "print(continuousCols)"
   ]
  },
  {
   "cell_type": "markdown",
   "metadata": {
    "id": "C-3INu1FvgBy"
   },
   "source": [
    "### Segregating the desired columns to convert the data type into IntegerType"
   ]
  },
  {
   "cell_type": "code",
   "execution_count": 19,
   "metadata": {},
   "outputs": [],
   "source": [
    "numeric_index = [1,2,5,6]\n",
    "numeric_cols = [allCols[val] for val in numeric_index]"
   ]
  },
  {
   "cell_type": "code",
   "execution_count": 20,
   "metadata": {
    "colab": {
     "base_uri": "https://localhost:8080/"
    },
    "id": "c34_RWRGLklD",
    "outputId": "054d1aac-d6fb-4613-b0d3-7e1c274caa53"
   },
   "outputs": [
    {
     "data": {
      "text/plain": [
       "['Number_of_houses', 'Avg_size_household', 'Avg_Salary', 'label']"
      ]
     },
     "execution_count": 20,
     "metadata": {},
     "output_type": "execute_result"
    }
   ],
   "source": [
    "numeric_cols"
   ]
  },
  {
   "cell_type": "code",
   "execution_count": 21,
   "metadata": {
    "id": "i_1aDsHiL5BW"
   },
   "outputs": [],
   "source": [
    "from pyspark.sql import functions as f\n",
    "from pyspark.sql.types import IntegerType"
   ]
  },
  {
   "cell_type": "markdown",
   "metadata": {},
   "source": [
    "\n",
    "The first option you have when it comes to converting data types is pyspark.sql.Column.cast() function that converts the input column to the specified data type."
   ]
  },
  {
   "cell_type": "code",
   "execution_count": 22,
   "metadata": {
    "id": "n7Swo2-QLoPY"
   },
   "outputs": [],
   "source": [
    "for column in numeric_cols:\n",
    "    df = df.withColumn(column,f.col(column).cast(IntegerType()))"
   ]
  },
  {
   "cell_type": "markdown",
   "metadata": {
    "id": "c7d4e_JHwmh3"
   },
   "source": [
    "### Checking the schema after converting the numerical columns into IntegerType"
   ]
  },
  {
   "cell_type": "code",
   "execution_count": 23,
   "metadata": {
    "colab": {
     "base_uri": "https://localhost:8080/"
    },
    "id": "aUoxHnQ9MLgQ",
    "outputId": "effde7c6-98c1-422b-f03c-7fbb7cfab5ca"
   },
   "outputs": [
    {
     "name": "stdout",
     "output_type": "stream",
     "text": [
      "root\n",
      " |-- Customer_subtype: string (nullable = true)\n",
      " |-- Number_of_houses: integer (nullable = true)\n",
      " |-- Avg_size_household: integer (nullable = true)\n",
      " |-- Avg_age: string (nullable = true)\n",
      " |-- Customer_main_type: string (nullable = true)\n",
      " |-- Avg_Salary: integer (nullable = true)\n",
      " |-- label: integer (nullable = true)\n",
      "\n"
     ]
    }
   ],
   "source": [
    "df.printSchema()"
   ]
  },
  {
   "cell_type": "markdown",
   "metadata": {},
   "source": [
    "## Complementary information"
   ]
  },
  {
   "cell_type": "markdown",
   "metadata": {},
   "source": [
    "Alternatively, you can use pyspark.sql.DataFrame.selectExpr function by specifying the corresponding SQL expressions that can cast the data type of desired columns, as shown below."
   ]
  },
  {
   "cell_type": "code",
   "execution_count": 24,
   "metadata": {},
   "outputs": [],
   "source": [
    "dfa = df.selectExpr(\n",
    "    'cast(Number_of_houses as int) Number_of_houses',\n",
    ")"
   ]
  },
  {
   "cell_type": "code",
   "execution_count": 25,
   "metadata": {},
   "outputs": [
    {
     "name": "stdout",
     "output_type": "stream",
     "text": [
      "root\n",
      " |-- Number_of_houses: integer (nullable = true)\n",
      "\n"
     ]
    }
   ],
   "source": [
    "dfa.printSchema()"
   ]
  },
  {
   "cell_type": "markdown",
   "metadata": {},
   "source": [
    "Sometimes we need add date type\n",
    "```\n",
    "'to_date(colA, \\'dd-MM-yyyy\\') colA',\n",
    "```"
   ]
  },
  {
   "cell_type": "code",
   "execution_count": 26,
   "metadata": {},
   "outputs": [],
   "source": [
    "from datetime import datetime\n",
    "from pyspark.sql.functions import col, udf\n",
    "from pyspark.sql.types import DoubleType, IntegerType, DateType\n",
    "dfa = df \\\n",
    "    .withColumn('Number_of_houses', col('Number_of_houses').cast(IntegerType()))"
   ]
  },
  {
   "cell_type": "markdown",
   "metadata": {},
   "source": [
    "and the datatype equivalent, first we define dhe universal defined function \n",
    "\n",
    "```\n",
    "# UDF to process the date column\n",
    "func = udf(lambda x: datetime.strptime(x, '%d-%m-%Y'), DateType())\n",
    "\n",
    "with \n",
    "\n",
    ".withColumn('colA', func(col('colA'))) \\\n",
    "```"
   ]
  },
  {
   "cell_type": "code",
   "execution_count": 27,
   "metadata": {},
   "outputs": [
    {
     "name": "stdout",
     "output_type": "stream",
     "text": [
      "root\n",
      " |-- Customer_subtype: string (nullable = true)\n",
      " |-- Number_of_houses: integer (nullable = true)\n",
      " |-- Avg_size_household: integer (nullable = true)\n",
      " |-- Avg_age: string (nullable = true)\n",
      " |-- Customer_main_type: string (nullable = true)\n",
      " |-- Avg_Salary: integer (nullable = true)\n",
      " |-- label: integer (nullable = true)\n",
      "\n"
     ]
    }
   ],
   "source": [
    "dfa.printSchema()"
   ]
  },
  {
   "cell_type": "code",
   "execution_count": 28,
   "metadata": {},
   "outputs": [],
   "source": [
    "from pyspark.sql import SparkSession\n",
    "# Create an instance of spark session\n",
    "spark_session = SparkSession.builder \\\n",
    "    .master('local[1]') \\\n",
    "    .appName('Example') \\\n",
    "    .getOrCreate()"
   ]
  },
  {
   "cell_type": "code",
   "execution_count": 29,
   "metadata": {},
   "outputs": [
    {
     "data": {
      "text/plain": [
       "False"
      ]
     },
     "execution_count": 29,
     "metadata": {},
     "output_type": "execute_result"
    }
   ],
   "source": [
    "# Removing Global views\n",
    "spark.catalog.dropGlobalTempView(\"dfa\")"
   ]
  },
  {
   "cell_type": "code",
   "execution_count": 30,
   "metadata": {},
   "outputs": [],
   "source": [
    "# First we need to register the DF as a global temporary view\n",
    "df.createGlobalTempView(\"dfa\")\n",
    "dfa = spark_session.sql(\n",
    "    \"\"\"\n",
    "    SELECT \n",
    "        cast(Number_of_houses as int) Number_of_houses\n",
    "    FROM global_temp.dfa\n",
    "    \"\"\"\n",
    ")"
   ]
  },
  {
   "cell_type": "code",
   "execution_count": 31,
   "metadata": {},
   "outputs": [
    {
     "name": "stdout",
     "output_type": "stream",
     "text": [
      "root\n",
      " |-- Number_of_houses: integer (nullable = true)\n",
      "\n"
     ]
    }
   ],
   "source": [
    "dfa.printSchema()"
   ]
  },
  {
   "cell_type": "markdown",
   "metadata": {
    "id": "SfF1zXNxww4F"
   },
   "source": [
    "### Creating a variable to store all the numerical columns into a list"
   ]
  },
  {
   "cell_type": "code",
   "execution_count": 32,
   "metadata": {
    "colab": {
     "base_uri": "https://localhost:8080/"
    },
    "id": "ZhtiTxFiz0uG",
    "outputId": "e9df325d-465d-4e51-85fc-ca6b908a8464"
   },
   "outputs": [
    {
     "data": {
      "text/plain": [
       "['Number_of_houses', 'Avg_size_household', 'Avg_Salary', 'label']"
      ]
     },
     "execution_count": 32,
     "metadata": {},
     "output_type": "execute_result"
    }
   ],
   "source": [
    "numeric_columns = [column[0] for column in df.dtypes if column[1]=='int']\n",
    "numeric_columns"
   ]
  },
  {
   "cell_type": "code",
   "execution_count": 33,
   "metadata": {},
   "outputs": [
    {
     "name": "stdout",
     "output_type": "stream",
     "text": [
      "+--------------------+----------------+------------------+-----------+--------------------+----------+-----+\n",
      "|    Customer_subtype|Number_of_houses|Avg_size_household|    Avg_age|  Customer_main_type|Avg_Salary|label|\n",
      "+--------------------+----------------+------------------+-----------+--------------------+----------+-----+\n",
      "|Lower class large...|               1|                 3|30-40 years|Family with grown...|     44905|    0|\n",
      "|Mixed small town ...|               1|                 2|30-40 years|Family with grown...|     37575|    0|\n",
      "|Mixed small town ...|               1|                 2|30-40 years|Family with grown...|     27915|    0|\n",
      "|Modern, complete ...|               1|                 3|40-50 years|      Average Family|     19504|    0|\n",
      "|  Large family farms|               1|                 4|30-40 years|             Farmers|     34943|    0|\n",
      "|    Young and rising|               1|                 2|20-30 years|         Living well|     13064|    0|\n",
      "|Large religious f...|               2|                 3|30-40 years|Conservative fami...|     29090|    0|\n",
      "|Lower class large...|               1|                 2|40-50 years|Family with grown...|      6895|    0|\n",
      "|Lower class large...|               1|                 2|50-60 years|Family with grown...|     35497|    0|\n",
      "|     Family starters|               2|                 3|40-50 years|      Average Family|     30800|    0|\n",
      "|       Stable family|               1|                 4|40-50 years|      Average Family|     39157|    0|\n",
      "|Modern, complete ...|               1|                 3|40-50 years|      Average Family|     40839|    0|\n",
      "|Lower class large...|               1|                 2|40-50 years|Family with grown...|     30008|    0|\n",
      "|        Mixed rurals|               1|                 3|40-50 years|             Farmers|     37209|    0|\n",
      "|    Young and rising|               1|                 1|30-40 years|         Living well|     45361|    0|\n",
      "|Lower class large...|               1|                 2|40-50 years|Family with grown...|     45650|    0|\n",
      "|Traditional families|               1|                 2|40-50 years|Conservative fami...|     18982|    0|\n",
      "|Mixed apartment d...|               2|                 3|40-50 years|         Living well|     30093|    0|\n",
      "|Young all america...|               1|                 4|30-40 years|      Average Family|     27097|    0|\n",
      "|Low income catholics|               1|                 2|50-60 years|Retired and Relig...|     23511|    0|\n",
      "+--------------------+----------------+------------------+-----------+--------------------+----------+-----+\n",
      "only showing top 20 rows\n",
      "\n"
     ]
    }
   ],
   "source": [
    "df.show()"
   ]
  },
  {
   "cell_type": "markdown",
   "metadata": {},
   "source": [
    "# Case 1 - Working with only integers"
   ]
  },
  {
   "cell_type": "code",
   "execution_count": 125,
   "metadata": {},
   "outputs": [],
   "source": [
    "dfa=df.select(*numeric_columns)"
   ]
  },
  {
   "cell_type": "code",
   "execution_count": 126,
   "metadata": {},
   "outputs": [],
   "source": [
    "#dfa=df.select(col('Avg_Salary'))"
   ]
  },
  {
   "cell_type": "code",
   "execution_count": 127,
   "metadata": {},
   "outputs": [
    {
     "name": "stdout",
     "output_type": "stream",
     "text": [
      "root\n",
      " |-- Number_of_houses: integer (nullable = true)\n",
      " |-- Avg_size_household: integer (nullable = true)\n",
      " |-- Avg_Salary: integer (nullable = true)\n",
      " |-- label: integer (nullable = true)\n",
      "\n"
     ]
    }
   ],
   "source": [
    "dfa.printSchema()"
   ]
  },
  {
   "cell_type": "markdown",
   "metadata": {
    "id": "uC1kV86Qw52q"
   },
   "source": [
    "### Creating a customized function "
   ]
  },
  {
   "cell_type": "code",
   "execution_count": 128,
   "metadata": {
    "id": "WUKvzV_mMQeO"
   },
   "outputs": [],
   "source": [
    "def find_outliers(df,numerical_columns=None):\n",
    "    if numerical_columns==None:\n",
    "        # Identifying the numerical columns in a spark dataframe\n",
    "        numeric_columns = [column[0] for column in df.dtypes if column[1]=='int'or column[1]=='double']\n",
    "    else:\n",
    "        #Custom numerical columns\n",
    "        numeric_columns =numerical_columns\n",
    "\n",
    "    # Using the `for` loop to create new columns by identifying the outliers for each feature\n",
    "    for column in numeric_columns:\n",
    "\n",
    "        less_Q1 = 'less_Q1_{}'.format(column)\n",
    "        more_Q3 = 'more_Q3_{}'.format(column)\n",
    "        Q1 = 'Q1_{}'.format(column)\n",
    "        Q3 = 'Q3_{}'.format(column)\n",
    "\n",
    "        # Q1 : First Quartile ., Q3 : Third Quartile\n",
    "        Q1 = df.approxQuantile(column,[0.25],relativeError=0)\n",
    "        Q3 = df.approxQuantile(column,[0.75],relativeError=0)\n",
    "        \n",
    "        # IQR : Inter Quantile Range\n",
    "        # We need to define the index [0], as Q1 & Q3 are a set of lists., to perform a mathematical operation\n",
    "        # Q1 & Q3 are defined seperately so as to have a clear indication on First Quantile & 3rd Quantile\n",
    "        IQR = Q3[0] - Q1[0]\n",
    "        \n",
    "        #selecting the data, with -1.5*IQR to + 1.5*IQR., where param = 1.5 default value\n",
    "        less_Q1 =  Q1[0] - 1.5*IQR\n",
    "        more_Q3 =  Q3[0] + 1.5*IQR\n",
    "        \n",
    "        isOutlierCol = 'is_outlier_{}'.format(column)\n",
    "        \n",
    "        df = df.withColumn(isOutlierCol,f.when((df[column] > more_Q3) | (df[column] < less_Q1), 1).otherwise(0))\n",
    "    \n",
    "\n",
    "    # Selecting the specific columns which we have added above, to check if there are any outliers\n",
    "    selected_columns = [column for column in df.columns if column.startswith(\"is_outlier\")]\n",
    "\n",
    "    # Adding all the outlier columns into a new colum \"total_outliers\", to see the total number of outliers\n",
    "    df = df.withColumn('total_outliers',sum(df[column] for column in selected_columns))\n",
    "\n",
    "    # Dropping the extra columns created above, just to create nice dataframe., without extra columns\n",
    "    df = df.drop(*[column for column in df.columns if column.startswith(\"is_outlier\")])\n",
    "\n",
    "    return df"
   ]
  },
  {
   "cell_type": "markdown",
   "metadata": {
    "id": "fkZpcH4Nxqbz"
   },
   "source": [
    "### Using the customized Outlier function and applying it to a spark dataframe"
   ]
  },
  {
   "cell_type": "code",
   "execution_count": 129,
   "metadata": {
    "colab": {
     "base_uri": "https://localhost:8080/"
    },
    "id": "8_BhmWK32lNg",
    "outputId": "a187e35e-b496-4167-bfa1-f8694254b39a"
   },
   "outputs": [
    {
     "name": "stdout",
     "output_type": "stream",
     "text": [
      "+----------------+------------------+----------+-----+--------------+\n",
      "|Number_of_houses|Avg_size_household|Avg_Salary|label|total_outliers|\n",
      "+----------------+------------------+----------+-----+--------------+\n",
      "|               1|                 3|     44905|    0|             0|\n",
      "|               1|                 2|     37575|    0|             0|\n",
      "|               1|                 2|     27915|    0|             0|\n",
      "|               1|                 3|     19504|    0|             0|\n",
      "|               1|                 4|     34943|    0|             0|\n",
      "|               1|                 2|     13064|    0|             0|\n",
      "|               2|                 3|     29090|    0|             1|\n",
      "|               1|                 2|      6895|    0|             0|\n",
      "|               1|                 2|     35497|    0|             0|\n",
      "|               2|                 3|     30800|    0|             1|\n",
      "|               1|                 4|     39157|    0|             0|\n",
      "|               1|                 3|     40839|    0|             0|\n",
      "|               1|                 2|     30008|    0|             0|\n",
      "|               1|                 3|     37209|    0|             0|\n",
      "|               1|                 1|     45361|    0|             0|\n",
      "|               1|                 2|     45650|    0|             0|\n",
      "|               1|                 2|     18982|    0|             0|\n",
      "|               2|                 3|     30093|    0|             1|\n",
      "|               1|                 4|     27097|    0|             0|\n",
      "|               1|                 2|     23511|    0|             0|\n",
      "+----------------+------------------+----------+-----+--------------+\n",
      "only showing top 20 rows\n",
      "\n"
     ]
    }
   ],
   "source": [
    "new_df = find_outliers(dfa)\n",
    "new_df.show()"
   ]
  },
  {
   "cell_type": "markdown",
   "metadata": {
    "id": "6BM3CfYrxzTE"
   },
   "source": [
    "### Fitering the above dataframe, to select only those records where the outlier count is < = 1"
   ]
  },
  {
   "cell_type": "code",
   "execution_count": 39,
   "metadata": {
    "colab": {
     "base_uri": "https://localhost:8080/"
    },
    "id": "dw35IIRdOyWM",
    "outputId": "f013b3f1-374c-430c-96ad-9874f8e2e6d7"
   },
   "outputs": [
    {
     "name": "stdout",
     "output_type": "stream",
     "text": [
      "+----------------+------------------+----------+-----+\n",
      "|Number_of_houses|Avg_size_household|Avg_Salary|label|\n",
      "+----------------+------------------+----------+-----+\n",
      "|               1|                 3|     44905|    0|\n",
      "|               1|                 2|     37575|    0|\n",
      "|               1|                 2|     27915|    0|\n",
      "|               1|                 3|     19504|    0|\n",
      "|               1|                 4|     34943|    0|\n",
      "|               1|                 2|     13064|    0|\n",
      "|               2|                 3|     29090|    0|\n",
      "|               1|                 2|      6895|    0|\n",
      "|               1|                 2|     35497|    0|\n",
      "|               2|                 3|     30800|    0|\n",
      "|               1|                 4|     39157|    0|\n",
      "|               1|                 3|     40839|    0|\n",
      "|               1|                 2|     30008|    0|\n",
      "|               1|                 3|     37209|    0|\n",
      "|               1|                 1|     45361|    0|\n",
      "|               1|                 2|     45650|    0|\n",
      "|               1|                 2|     18982|    0|\n",
      "|               2|                 3|     30093|    0|\n",
      "|               1|                 4|     27097|    0|\n",
      "|               1|                 2|     23511|    0|\n",
      "+----------------+------------------+----------+-----+\n",
      "only showing top 20 rows\n",
      "\n"
     ]
    }
   ],
   "source": [
    "new_df_with_no_outliers = new_df.filter(new_df['total_Outliers']<=1)\n",
    "new_df_with_no_outliers = new_df_with_no_outliers.select(*dfa.columns)\n",
    "\n",
    "new_df_with_no_outliers.show()"
   ]
  },
  {
   "cell_type": "markdown",
   "metadata": {
    "id": "tJMxBlgfyE4-"
   },
   "source": [
    "### The count of the dataframe, after removing the outliers"
   ]
  },
  {
   "cell_type": "code",
   "execution_count": 40,
   "metadata": {
    "colab": {
     "base_uri": "https://localhost:8080/"
    },
    "id": "0m58T8wBPEIh",
    "outputId": "2a8d719e-71a5-4cb9-e8e1-102713762330"
   },
   "outputs": [
    {
     "data": {
      "text/plain": [
       "1938"
      ]
     },
     "execution_count": 40,
     "metadata": {},
     "output_type": "execute_result"
    }
   ],
   "source": [
    "new_df_with_no_outliers.count()"
   ]
  },
  {
   "cell_type": "markdown",
   "metadata": {
    "id": "PjrU6Q0my1_e"
   },
   "source": [
    "### The dataset, which contains 2 or more outliers in each record"
   ]
  },
  {
   "cell_type": "code",
   "execution_count": 41,
   "metadata": {
    "colab": {
     "base_uri": "https://localhost:8080/"
    },
    "id": "jz_pxmMVPhea",
    "outputId": "0464c72e-3200-4a97-8200-f622420fb190"
   },
   "outputs": [
    {
     "name": "stdout",
     "output_type": "stream",
     "text": [
      "+----------------+------------------+----------+-----+--------------+\n",
      "|Number_of_houses|Avg_size_household|Avg_Salary|label|total_outliers|\n",
      "+----------------+------------------+----------+-----+--------------+\n",
      "|               2|                 5|     40832|    0|             2|\n",
      "|               1|                 3|    762769|    1|             2|\n",
      "|               2|                 3|   6138618|    0|             2|\n",
      "|               1|                 2|  12545905|    1|             2|\n",
      "|               2|                 3|     30117|    1|             2|\n",
      "|               2|                 2|    690080|    0|             2|\n",
      "|               2|                 5|     37394|    0|             2|\n",
      "|               1|                 4|  35032441|    1|             2|\n",
      "|               1|                 4|    682348|    1|             2|\n",
      "|               2|                 3|    762483|    0|             2|\n",
      "|               2|                 4|     20503|    1|             2|\n",
      "|               2|                 2|    315815|    0|             2|\n",
      "|               2|                 3|     14798|    1|             2|\n",
      "|               2|                 4|    681714|    0|             2|\n",
      "|               1|                 3|    903291|    1|             2|\n",
      "|               1|                 1|  17462103|    1|             2|\n",
      "|               1|                 5|  18657560|    0|             2|\n",
      "|               2|                 5|     26224|    0|             2|\n",
      "|               3|                 2|    596723|    0|             2|\n",
      "|               1|                 2|  48069548|    1|             2|\n",
      "+----------------+------------------+----------+-----+--------------+\n",
      "only showing top 20 rows\n",
      "\n"
     ]
    }
   ],
   "source": [
    "data_with_outliers = new_df.filter(new_df['total_Outliers']>=2)\n",
    "data_with_outliers.show()"
   ]
  },
  {
   "cell_type": "code",
   "execution_count": 42,
   "metadata": {
    "colab": {
     "base_uri": "https://localhost:8080/"
    },
    "id": "bKGJjhd_Vzr4",
    "outputId": "584f2004-810e-4105-a291-c27b09e4e243"
   },
   "outputs": [
    {
     "data": {
      "text/plain": [
       "['Number_of_houses', 'Avg_size_household', 'Avg_Salary', 'label']"
      ]
     },
     "execution_count": 42,
     "metadata": {},
     "output_type": "execute_result"
    }
   ],
   "source": [
    "# Selecting the numerical columns from the original dataframe and converting into pandas\n",
    "\n",
    "numeric_columns"
   ]
  },
  {
   "cell_type": "markdown",
   "metadata": {
    "id": "xq32OZrEzAoR"
   },
   "source": [
    "### Converting a spark dataframe into pandas dataframe, which enables us to plot the graphs using seaborn and matplotlib"
   ]
  },
  {
   "cell_type": "code",
   "execution_count": 43,
   "metadata": {
    "colab": {
     "base_uri": "https://localhost:8080/",
     "height": 305
    },
    "id": "NkOJ4ZdbWLrY",
    "outputId": "6cdc4c41-a62f-4b74-9731-9a37b44c113b"
   },
   "outputs": [
    {
     "data": {
      "text/html": [
       "<div>\n",
       "<style scoped>\n",
       "    .dataframe tbody tr th:only-of-type {\n",
       "        vertical-align: middle;\n",
       "    }\n",
       "\n",
       "    .dataframe tbody tr th {\n",
       "        vertical-align: top;\n",
       "    }\n",
       "\n",
       "    .dataframe thead th {\n",
       "        text-align: right;\n",
       "    }\n",
       "</style>\n",
       "<table border=\"1\" class=\"dataframe\">\n",
       "  <thead>\n",
       "    <tr style=\"text-align: right;\">\n",
       "      <th></th>\n",
       "      <th>Number_of_houses</th>\n",
       "      <th>Avg_size_household</th>\n",
       "      <th>Avg_Salary</th>\n",
       "      <th>label</th>\n",
       "    </tr>\n",
       "  </thead>\n",
       "  <tbody>\n",
       "    <tr>\n",
       "      <th>0</th>\n",
       "      <td>1</td>\n",
       "      <td>3</td>\n",
       "      <td>44905</td>\n",
       "      <td>0</td>\n",
       "    </tr>\n",
       "    <tr>\n",
       "      <th>1</th>\n",
       "      <td>1</td>\n",
       "      <td>2</td>\n",
       "      <td>37575</td>\n",
       "      <td>0</td>\n",
       "    </tr>\n",
       "    <tr>\n",
       "      <th>2</th>\n",
       "      <td>1</td>\n",
       "      <td>2</td>\n",
       "      <td>27915</td>\n",
       "      <td>0</td>\n",
       "    </tr>\n",
       "    <tr>\n",
       "      <th>3</th>\n",
       "      <td>1</td>\n",
       "      <td>3</td>\n",
       "      <td>19504</td>\n",
       "      <td>0</td>\n",
       "    </tr>\n",
       "    <tr>\n",
       "      <th>4</th>\n",
       "      <td>1</td>\n",
       "      <td>4</td>\n",
       "      <td>34943</td>\n",
       "      <td>0</td>\n",
       "    </tr>\n",
       "    <tr>\n",
       "      <th>5</th>\n",
       "      <td>1</td>\n",
       "      <td>2</td>\n",
       "      <td>13064</td>\n",
       "      <td>0</td>\n",
       "    </tr>\n",
       "    <tr>\n",
       "      <th>6</th>\n",
       "      <td>2</td>\n",
       "      <td>3</td>\n",
       "      <td>29090</td>\n",
       "      <td>0</td>\n",
       "    </tr>\n",
       "    <tr>\n",
       "      <th>7</th>\n",
       "      <td>1</td>\n",
       "      <td>2</td>\n",
       "      <td>6895</td>\n",
       "      <td>0</td>\n",
       "    </tr>\n",
       "    <tr>\n",
       "      <th>8</th>\n",
       "      <td>1</td>\n",
       "      <td>2</td>\n",
       "      <td>35497</td>\n",
       "      <td>0</td>\n",
       "    </tr>\n",
       "    <tr>\n",
       "      <th>9</th>\n",
       "      <td>2</td>\n",
       "      <td>3</td>\n",
       "      <td>30800</td>\n",
       "      <td>0</td>\n",
       "    </tr>\n",
       "  </tbody>\n",
       "</table>\n",
       "</div>"
      ],
      "text/plain": [
       "   Number_of_houses  Avg_size_household  Avg_Salary  label\n",
       "0                 1                   3       44905      0\n",
       "1                 1                   2       37575      0\n",
       "2                 1                   2       27915      0\n",
       "3                 1                   3       19504      0\n",
       "4                 1                   4       34943      0\n",
       "5                 1                   2       13064      0\n",
       "6                 2                   3       29090      0\n",
       "7                 1                   2        6895      0\n",
       "8                 1                   2       35497      0\n",
       "9                 2                   3       30800      0"
      ]
     },
     "execution_count": 43,
     "metadata": {},
     "output_type": "execute_result"
    }
   ],
   "source": [
    "original_numerical_df = dfa.select(*numeric_columns).toPandas()\n",
    "\n",
    "original_numerical_df.head(10)"
   ]
  },
  {
   "cell_type": "code",
   "execution_count": 44,
   "metadata": {
    "colab": {
     "base_uri": "https://localhost:8080/",
     "height": 305
    },
    "id": "sc74o3q4W33-",
    "outputId": "fa4953b8-1441-4fff-d1f4-6b04005c87a3"
   },
   "outputs": [
    {
     "data": {
      "text/html": [
       "<div>\n",
       "<style scoped>\n",
       "    .dataframe tbody tr th:only-of-type {\n",
       "        vertical-align: middle;\n",
       "    }\n",
       "\n",
       "    .dataframe tbody tr th {\n",
       "        vertical-align: top;\n",
       "    }\n",
       "\n",
       "    .dataframe thead th {\n",
       "        text-align: right;\n",
       "    }\n",
       "</style>\n",
       "<table border=\"1\" class=\"dataframe\">\n",
       "  <thead>\n",
       "    <tr style=\"text-align: right;\">\n",
       "      <th></th>\n",
       "      <th>Number_of_houses</th>\n",
       "      <th>Avg_size_household</th>\n",
       "      <th>Avg_Salary</th>\n",
       "      <th>label</th>\n",
       "    </tr>\n",
       "  </thead>\n",
       "  <tbody>\n",
       "    <tr>\n",
       "      <th>0</th>\n",
       "      <td>1</td>\n",
       "      <td>3</td>\n",
       "      <td>44905</td>\n",
       "      <td>0</td>\n",
       "    </tr>\n",
       "    <tr>\n",
       "      <th>1</th>\n",
       "      <td>1</td>\n",
       "      <td>2</td>\n",
       "      <td>37575</td>\n",
       "      <td>0</td>\n",
       "    </tr>\n",
       "    <tr>\n",
       "      <th>2</th>\n",
       "      <td>1</td>\n",
       "      <td>2</td>\n",
       "      <td>27915</td>\n",
       "      <td>0</td>\n",
       "    </tr>\n",
       "    <tr>\n",
       "      <th>3</th>\n",
       "      <td>1</td>\n",
       "      <td>3</td>\n",
       "      <td>19504</td>\n",
       "      <td>0</td>\n",
       "    </tr>\n",
       "    <tr>\n",
       "      <th>4</th>\n",
       "      <td>1</td>\n",
       "      <td>4</td>\n",
       "      <td>34943</td>\n",
       "      <td>0</td>\n",
       "    </tr>\n",
       "    <tr>\n",
       "      <th>5</th>\n",
       "      <td>1</td>\n",
       "      <td>2</td>\n",
       "      <td>13064</td>\n",
       "      <td>0</td>\n",
       "    </tr>\n",
       "    <tr>\n",
       "      <th>6</th>\n",
       "      <td>2</td>\n",
       "      <td>3</td>\n",
       "      <td>29090</td>\n",
       "      <td>0</td>\n",
       "    </tr>\n",
       "    <tr>\n",
       "      <th>7</th>\n",
       "      <td>1</td>\n",
       "      <td>2</td>\n",
       "      <td>6895</td>\n",
       "      <td>0</td>\n",
       "    </tr>\n",
       "    <tr>\n",
       "      <th>8</th>\n",
       "      <td>1</td>\n",
       "      <td>2</td>\n",
       "      <td>35497</td>\n",
       "      <td>0</td>\n",
       "    </tr>\n",
       "    <tr>\n",
       "      <th>9</th>\n",
       "      <td>2</td>\n",
       "      <td>3</td>\n",
       "      <td>30800</td>\n",
       "      <td>0</td>\n",
       "    </tr>\n",
       "  </tbody>\n",
       "</table>\n",
       "</div>"
      ],
      "text/plain": [
       "   Number_of_houses  Avg_size_household  Avg_Salary  label\n",
       "0                 1                   3       44905      0\n",
       "1                 1                   2       37575      0\n",
       "2                 1                   2       27915      0\n",
       "3                 1                   3       19504      0\n",
       "4                 1                   4       34943      0\n",
       "5                 1                   2       13064      0\n",
       "6                 2                   3       29090      0\n",
       "7                 1                   2        6895      0\n",
       "8                 1                   2       35497      0\n",
       "9                 2                   3       30800      0"
      ]
     },
     "execution_count": 44,
     "metadata": {},
     "output_type": "execute_result"
    }
   ],
   "source": [
    "# Plotting the box for the dataset after removing the outliers\n",
    "\n",
    "dataset_after_removing_outliers = new_df_with_no_outliers.toPandas()\n",
    "dataset_after_removing_outliers.head(10)"
   ]
  },
  {
   "cell_type": "code",
   "execution_count": 45,
   "metadata": {
    "colab": {
     "base_uri": "https://localhost:8080/"
    },
    "id": "LOjNSD9FXOf7",
    "outputId": "0b8389d5-f3f7-4028-cc26-58dd39d25ca5"
   },
   "outputs": [
    {
     "data": {
      "text/plain": [
       "['Number_of_houses', 'Avg_size_household', 'Avg_Salary', 'label']"
      ]
     },
     "execution_count": 45,
     "metadata": {},
     "output_type": "execute_result"
    }
   ],
   "source": [
    "numeric_columns"
   ]
  },
  {
   "cell_type": "markdown",
   "metadata": {
    "id": "8FURRd0hzQdO"
   },
   "source": [
    "### Plotting the box plot, to check the outliers in the original dataframe., and comaring it with the new dataframe after removing outliers"
   ]
  },
  {
   "cell_type": "code",
   "execution_count": 173,
   "metadata": {},
   "outputs": [
    {
     "data": {
      "text/html": [
       "<div>\n",
       "<style scoped>\n",
       "    .dataframe tbody tr th:only-of-type {\n",
       "        vertical-align: middle;\n",
       "    }\n",
       "\n",
       "    .dataframe tbody tr th {\n",
       "        vertical-align: top;\n",
       "    }\n",
       "\n",
       "    .dataframe thead th {\n",
       "        text-align: right;\n",
       "    }\n",
       "</style>\n",
       "<table border=\"1\" class=\"dataframe\">\n",
       "  <thead>\n",
       "    <tr style=\"text-align: right;\">\n",
       "      <th></th>\n",
       "      <th>Number_of_houses</th>\n",
       "      <th>Avg_size_household</th>\n",
       "      <th>Avg_Salary</th>\n",
       "      <th>label</th>\n",
       "    </tr>\n",
       "  </thead>\n",
       "  <tbody>\n",
       "    <tr>\n",
       "      <th>0</th>\n",
       "      <td>1</td>\n",
       "      <td>3</td>\n",
       "      <td>44905</td>\n",
       "      <td>0</td>\n",
       "    </tr>\n",
       "    <tr>\n",
       "      <th>1</th>\n",
       "      <td>1</td>\n",
       "      <td>2</td>\n",
       "      <td>37575</td>\n",
       "      <td>0</td>\n",
       "    </tr>\n",
       "    <tr>\n",
       "      <th>2</th>\n",
       "      <td>1</td>\n",
       "      <td>2</td>\n",
       "      <td>27915</td>\n",
       "      <td>0</td>\n",
       "    </tr>\n",
       "    <tr>\n",
       "      <th>3</th>\n",
       "      <td>1</td>\n",
       "      <td>3</td>\n",
       "      <td>19504</td>\n",
       "      <td>0</td>\n",
       "    </tr>\n",
       "    <tr>\n",
       "      <th>4</th>\n",
       "      <td>1</td>\n",
       "      <td>4</td>\n",
       "      <td>34943</td>\n",
       "      <td>0</td>\n",
       "    </tr>\n",
       "    <tr>\n",
       "      <th>...</th>\n",
       "      <td>...</td>\n",
       "      <td>...</td>\n",
       "      <td>...</td>\n",
       "      <td>...</td>\n",
       "    </tr>\n",
       "    <tr>\n",
       "      <th>1995</th>\n",
       "      <td>1</td>\n",
       "      <td>2</td>\n",
       "      <td>45857</td>\n",
       "      <td>0</td>\n",
       "    </tr>\n",
       "    <tr>\n",
       "      <th>1996</th>\n",
       "      <td>1</td>\n",
       "      <td>4</td>\n",
       "      <td>45665</td>\n",
       "      <td>0</td>\n",
       "    </tr>\n",
       "    <tr>\n",
       "      <th>1997</th>\n",
       "      <td>1</td>\n",
       "      <td>2</td>\n",
       "      <td>32903</td>\n",
       "      <td>0</td>\n",
       "    </tr>\n",
       "    <tr>\n",
       "      <th>1998</th>\n",
       "      <td>1</td>\n",
       "      <td>3</td>\n",
       "      <td>46911924</td>\n",
       "      <td>0</td>\n",
       "    </tr>\n",
       "    <tr>\n",
       "      <th>1999</th>\n",
       "      <td>1</td>\n",
       "      <td>3</td>\n",
       "      <td>45401</td>\n",
       "      <td>0</td>\n",
       "    </tr>\n",
       "  </tbody>\n",
       "</table>\n",
       "<p>2000 rows × 4 columns</p>\n",
       "</div>"
      ],
      "text/plain": [
       "      Number_of_houses  Avg_size_household  Avg_Salary  label\n",
       "0                    1                   3       44905      0\n",
       "1                    1                   2       37575      0\n",
       "2                    1                   2       27915      0\n",
       "3                    1                   3       19504      0\n",
       "4                    1                   4       34943      0\n",
       "...                ...                 ...         ...    ...\n",
       "1995                 1                   2       45857      0\n",
       "1996                 1                   4       45665      0\n",
       "1997                 1                   2       32903      0\n",
       "1998                 1                   3    46911924      0\n",
       "1999                 1                   3       45401      0\n",
       "\n",
       "[2000 rows x 4 columns]"
      ]
     },
     "execution_count": 173,
     "metadata": {},
     "output_type": "execute_result"
    }
   ],
   "source": [
    "original_numerical_df"
   ]
  },
  {
   "cell_type": "code",
   "execution_count": 185,
   "metadata": {
    "colab": {
     "base_uri": "https://localhost:8080/",
     "height": 472
    },
    "id": "pi-kukWSbhfA",
    "outputId": "5868ef27-b04f-4967-8b86-b3b7ef81ed50"
   },
   "outputs": [
    {
     "data": {
      "image/png": "[encoded data removed]",
      "text/plain": [
       "<Figure size 1500x800 with 8 Axes>"
      ]
     },
     "metadata": {},
     "output_type": "display_data"
    }
   ],
   "source": [
    "size_columns=len(original_numerical_df.columns)\n",
    "fig,ax = plt.subplots(2,size_columns,figsize=(15,8))\n",
    "for i,dfa in enumerate([original_numerical_df,dataset_after_removing_outliers]):\n",
    "  \n",
    "    for j, col in enumerate(numeric_columns):\n",
    "        sns.boxplot(data = dfa, y=col,ax=ax[i][j])"
   ]
  },
  {
   "cell_type": "markdown",
   "metadata": {
    "id": "odXmJSpR10Z-"
   },
   "source": [
    "# Case 2 - Working with strings"
   ]
  },
  {
   "cell_type": "code",
   "execution_count": 47,
   "metadata": {},
   "outputs": [
    {
     "name": "stdout",
     "output_type": "stream",
     "text": [
      "+--------------------+----------------+------------------+-----------+--------------------+----------+-----+\n",
      "|    Customer_subtype|Number_of_houses|Avg_size_household|    Avg_age|  Customer_main_type|Avg_Salary|label|\n",
      "+--------------------+----------------+------------------+-----------+--------------------+----------+-----+\n",
      "|Lower class large...|               1|                 3|30-40 years|Family with grown...|     44905|    0|\n",
      "|Mixed small town ...|               1|                 2|30-40 years|Family with grown...|     37575|    0|\n",
      "|Mixed small town ...|               1|                 2|30-40 years|Family with grown...|     27915|    0|\n",
      "|Modern, complete ...|               1|                 3|40-50 years|      Average Family|     19504|    0|\n",
      "|  Large family farms|               1|                 4|30-40 years|             Farmers|     34943|    0|\n",
      "+--------------------+----------------+------------------+-----------+--------------------+----------+-----+\n",
      "only showing top 5 rows\n",
      "\n"
     ]
    }
   ],
   "source": [
    "df.show(5)"
   ]
  },
  {
   "cell_type": "code",
   "execution_count": 48,
   "metadata": {},
   "outputs": [
    {
     "name": "stdout",
     "output_type": "stream",
     "text": [
      "root\n",
      " |-- Customer_subtype: string (nullable = true)\n",
      " |-- Number_of_houses: integer (nullable = true)\n",
      " |-- Avg_size_household: integer (nullable = true)\n",
      " |-- Avg_age: string (nullable = true)\n",
      " |-- Customer_main_type: string (nullable = true)\n",
      " |-- Avg_Salary: integer (nullable = true)\n",
      " |-- label: integer (nullable = true)\n",
      "\n"
     ]
    }
   ],
   "source": [
    "df.printSchema()"
   ]
  },
  {
   "cell_type": "markdown",
   "metadata": {},
   "source": [
    " ## Encoding string values into numeric values in Spark DataFrame\n",
    " Let us assume that we are interested to encoding the columns that are strings.\n",
    "\n",
    "StringIndexer encodes a string column of labels to a column of label indices. StringIndexer can encode multiple columns. "
   ]
  },
  {
   "cell_type": "markdown",
   "metadata": {},
   "source": [
    "## Single Column Encoding"
   ]
  },
  {
   "cell_type": "code",
   "execution_count": 49,
   "metadata": {},
   "outputs": [
    {
     "name": "stdout",
     "output_type": "stream",
     "text": [
      "root\n",
      " |-- Customer_subtype: string (nullable = true)\n",
      " |-- Number_of_houses: integer (nullable = true)\n",
      " |-- Avg_size_household: integer (nullable = true)\n",
      " |-- Avg_age: string (nullable = true)\n",
      " |-- Customer_main_type: string (nullable = true)\n",
      " |-- Avg_Salary: integer (nullable = true)\n",
      " |-- label: integer (nullable = true)\n",
      " |-- idx_Customer_subtype: double (nullable = false)\n",
      "\n"
     ]
    }
   ],
   "source": [
    "from pyspark.ml.feature import StringIndexer\n",
    "label_col ='Customer_subtype'\n",
    "indexer = StringIndexer(inputCol=label_col, outputCol=\"idx_{0}\".format(label_col))\n",
    "indexed = indexer.fit(df).transform(df)\n",
    "indexed.printSchema()"
   ]
  },
  {
   "cell_type": "markdown",
   "metadata": {},
   "source": [
    "## Multiple Columns Encodings\n",
    "We assume that we want to encode all string columns"
   ]
  },
  {
   "cell_type": "code",
   "execution_count": 147,
   "metadata": {},
   "outputs": [],
   "source": [
    "from pyspark.ml.feature import StringIndexer\n",
    "from pyspark.ml.pipeline import Pipeline\n",
    "from pyspark.ml.feature import VectorAssembler"
   ]
  },
  {
   "cell_type": "code",
   "execution_count": 148,
   "metadata": {},
   "outputs": [
    {
     "name": "stdout",
     "output_type": "stream",
     "text": [
      "['Customer_subtype', 'Avg_age', 'Customer_main_type']\n"
     ]
    }
   ],
   "source": [
    "#Get data type of a specific column from dtypes\n",
    "#store all column names that are categorical in a list\n",
    "categoricalCols = [item[0] for item in df.dtypes if item[1].startswith('string')]\n",
    "print(categoricalCols)"
   ]
  },
  {
   "cell_type": "code",
   "execution_count": 149,
   "metadata": {},
   "outputs": [],
   "source": [
    "label_col =categoricalCols  # List of string columns to encode"
   ]
  },
  {
   "cell_type": "code",
   "execution_count": 150,
   "metadata": {},
   "outputs": [
    {
     "data": {
      "text/plain": [
       "['Customer_subtype', 'Avg_age', 'Customer_main_type']"
      ]
     },
     "execution_count": 150,
     "metadata": {},
     "output_type": "execute_result"
    }
   ],
   "source": [
    "label_col"
   ]
  },
  {
   "cell_type": "markdown",
   "metadata": {},
   "source": [
    "For classifications problems,\n",
    "if you want to use ML you should index label as well\n",
    "if you want to use MLlib it is not necessary\n",
    "For regression problems you should omit label in the indexing\n",
    "as shown below"
   ]
  },
  {
   "cell_type": "code",
   "execution_count": 151,
   "metadata": {},
   "outputs": [],
   "source": [
    "# Indexers encode strings with doubles\n",
    "string_indexers = [\n",
    "   StringIndexer(inputCol=x, outputCol=\"idx_{0}\".format(x))\n",
    "\n",
    "   for x in df.columns if x in label_col # Exclude other columns if needed\n",
    "]"
   ]
  },
  {
   "cell_type": "code",
   "execution_count": 152,
   "metadata": {},
   "outputs": [
    {
     "name": "stdout",
     "output_type": "stream",
     "text": [
      "root\n",
      " |-- Customer_subtype: string (nullable = true)\n",
      " |-- Number_of_houses: integer (nullable = true)\n",
      " |-- Avg_size_household: integer (nullable = true)\n",
      " |-- Avg_age: string (nullable = true)\n",
      " |-- Customer_main_type: string (nullable = true)\n",
      " |-- Avg_Salary: integer (nullable = true)\n",
      " |-- label: integer (nullable = true)\n",
      "\n"
     ]
    }
   ],
   "source": [
    "df.printSchema()"
   ]
  },
  {
   "cell_type": "code",
   "execution_count": 153,
   "metadata": {},
   "outputs": [],
   "source": [
    "inputCols=[\"idx_{0}\".format(x) for x in label_col]"
   ]
  },
  {
   "cell_type": "code",
   "execution_count": 154,
   "metadata": {},
   "outputs": [],
   "source": [
    "#inputCols=[\"idx_{0}\".format(x) for x in df.columns if x == label_col]"
   ]
  },
  {
   "cell_type": "code",
   "execution_count": null,
   "metadata": {},
   "outputs": [],
   "source": []
  },
  {
   "cell_type": "code",
   "execution_count": 155,
   "metadata": {},
   "outputs": [
    {
     "data": {
      "text/plain": [
       "['idx_Customer_subtype', 'idx_Avg_age', 'idx_Customer_main_type']"
      ]
     },
     "execution_count": 155,
     "metadata": {},
     "output_type": "execute_result"
    }
   ],
   "source": [
    "inputCols"
   ]
  },
  {
   "cell_type": "code",
   "execution_count": 156,
   "metadata": {},
   "outputs": [],
   "source": [
    "# Assembles multiple columns into a single vector\n",
    "assembler = VectorAssembler(\n",
    "    inputCols=inputCols,\n",
    "    outputCol=\"features\"\n",
    ")"
   ]
  },
  {
   "cell_type": "code",
   "execution_count": 157,
   "metadata": {},
   "outputs": [],
   "source": [
    "pipeline = Pipeline(stages=string_indexers + [assembler])\n",
    "#pipeline = Pipeline(stages=string_indexers )\n",
    "model = pipeline.fit(df)\n",
    "new_df = model.transform(df)"
   ]
  },
  {
   "cell_type": "code",
   "execution_count": 158,
   "metadata": {},
   "outputs": [
    {
     "name": "stdout",
     "output_type": "stream",
     "text": [
      "root\n",
      " |-- Customer_subtype: string (nullable = true)\n",
      " |-- Number_of_houses: integer (nullable = true)\n",
      " |-- Avg_size_household: integer (nullable = true)\n",
      " |-- Avg_age: string (nullable = true)\n",
      " |-- Customer_main_type: string (nullable = true)\n",
      " |-- Avg_Salary: integer (nullable = true)\n",
      " |-- label: integer (nullable = true)\n",
      " |-- idx_Customer_subtype: double (nullable = false)\n",
      " |-- idx_Avg_age: double (nullable = false)\n",
      " |-- idx_Customer_main_type: double (nullable = false)\n",
      " |-- features: vector (nullable = true)\n",
      "\n"
     ]
    }
   ],
   "source": [
    "new_df.printSchema()"
   ]
  },
  {
   "cell_type": "code",
   "execution_count": 159,
   "metadata": {},
   "outputs": [
    {
     "name": "stdout",
     "output_type": "stream",
     "text": [
      "+--------------------+----------------+------------------+-----------+--------------------+----------+-----+--------------------+-----------+----------------------+--------------+\n",
      "|    Customer_subtype|Number_of_houses|Avg_size_household|    Avg_age|  Customer_main_type|Avg_Salary|label|idx_Customer_subtype|idx_Avg_age|idx_Customer_main_type|      features|\n",
      "+--------------------+----------------+------------------+-----------+--------------------+----------+-----+--------------------+-----------+----------------------+--------------+\n",
      "|Lower class large...|               1|                 3|30-40 years|Family with grown...|     44905|    0|                 0.0|        1.0|                   0.0| [0.0,1.0,0.0]|\n",
      "|Mixed small town ...|               1|                 2|30-40 years|Family with grown...|     37575|    0|                18.0|        1.0|                   0.0|[18.0,1.0,0.0]|\n",
      "|Mixed small town ...|               1|                 2|30-40 years|Family with grown...|     27915|    0|                18.0|        1.0|                   0.0|[18.0,1.0,0.0]|\n",
      "+--------------------+----------------+------------------+-----------+--------------------+----------+-----+--------------------+-----------+----------------------+--------------+\n",
      "only showing top 3 rows\n",
      "\n"
     ]
    }
   ],
   "source": [
    "new_df.show(3)"
   ]
  },
  {
   "cell_type": "code",
   "execution_count": 160,
   "metadata": {},
   "outputs": [],
   "source": [
    "#new_df.show(5)"
   ]
  },
  {
   "cell_type": "code",
   "execution_count": 161,
   "metadata": {},
   "outputs": [
    {
     "data": {
      "text/html": [
       "<div>\n",
       "<style scoped>\n",
       "    .dataframe tbody tr th:only-of-type {\n",
       "        vertical-align: middle;\n",
       "    }\n",
       "\n",
       "    .dataframe tbody tr th {\n",
       "        vertical-align: top;\n",
       "    }\n",
       "\n",
       "    .dataframe thead th {\n",
       "        text-align: right;\n",
       "    }\n",
       "</style>\n",
       "<table border=\"1\" class=\"dataframe\">\n",
       "  <thead>\n",
       "    <tr style=\"text-align: right;\">\n",
       "      <th></th>\n",
       "      <th>Customer_subtype</th>\n",
       "      <th>Number_of_houses</th>\n",
       "      <th>Avg_size_household</th>\n",
       "      <th>Avg_age</th>\n",
       "      <th>Customer_main_type</th>\n",
       "      <th>Avg_Salary</th>\n",
       "      <th>label</th>\n",
       "      <th>idx_Customer_subtype</th>\n",
       "      <th>idx_Avg_age</th>\n",
       "      <th>idx_Customer_main_type</th>\n",
       "      <th>features</th>\n",
       "    </tr>\n",
       "  </thead>\n",
       "  <tbody>\n",
       "    <tr>\n",
       "      <th>0</th>\n",
       "      <td>Lower class large families</td>\n",
       "      <td>1</td>\n",
       "      <td>3</td>\n",
       "      <td>30-40 years</td>\n",
       "      <td>Family with grown ups</td>\n",
       "      <td>44905</td>\n",
       "      <td>0</td>\n",
       "      <td>0.0</td>\n",
       "      <td>1.0</td>\n",
       "      <td>0.0</td>\n",
       "      <td>[0.0, 1.0, 0.0]</td>\n",
       "    </tr>\n",
       "    <tr>\n",
       "      <th>1</th>\n",
       "      <td>Mixed small town dwellers</td>\n",
       "      <td>1</td>\n",
       "      <td>2</td>\n",
       "      <td>30-40 years</td>\n",
       "      <td>Family with grown ups</td>\n",
       "      <td>37575</td>\n",
       "      <td>0</td>\n",
       "      <td>18.0</td>\n",
       "      <td>1.0</td>\n",
       "      <td>0.0</td>\n",
       "      <td>[18.0, 1.0, 0.0]</td>\n",
       "    </tr>\n",
       "    <tr>\n",
       "      <th>2</th>\n",
       "      <td>Mixed small town dwellers</td>\n",
       "      <td>1</td>\n",
       "      <td>2</td>\n",
       "      <td>30-40 years</td>\n",
       "      <td>Family with grown ups</td>\n",
       "      <td>27915</td>\n",
       "      <td>0</td>\n",
       "      <td>18.0</td>\n",
       "      <td>1.0</td>\n",
       "      <td>0.0</td>\n",
       "      <td>[18.0, 1.0, 0.0]</td>\n",
       "    </tr>\n",
       "    <tr>\n",
       "      <th>3</th>\n",
       "      <td>Modern, complete families</td>\n",
       "      <td>1</td>\n",
       "      <td>3</td>\n",
       "      <td>40-50 years</td>\n",
       "      <td>Average Family</td>\n",
       "      <td>19504</td>\n",
       "      <td>0</td>\n",
       "      <td>4.0</td>\n",
       "      <td>0.0</td>\n",
       "      <td>1.0</td>\n",
       "      <td>[4.0, 0.0, 1.0]</td>\n",
       "    </tr>\n",
       "    <tr>\n",
       "      <th>4</th>\n",
       "      <td>Large family farms</td>\n",
       "      <td>1</td>\n",
       "      <td>4</td>\n",
       "      <td>30-40 years</td>\n",
       "      <td>Farmers</td>\n",
       "      <td>34943</td>\n",
       "      <td>0</td>\n",
       "      <td>25.0</td>\n",
       "      <td>1.0</td>\n",
       "      <td>7.0</td>\n",
       "      <td>[25.0, 1.0, 7.0]</td>\n",
       "    </tr>\n",
       "  </tbody>\n",
       "</table>\n",
       "</div>"
      ],
      "text/plain": [
       "             Customer_subtype  Number_of_houses  Avg_size_household  \\\n",
       "0  Lower class large families                 1                   3   \n",
       "1   Mixed small town dwellers                 1                   2   \n",
       "2   Mixed small town dwellers                 1                   2   \n",
       "3   Modern, complete families                 1                   3   \n",
       "4          Large family farms                 1                   4   \n",
       "\n",
       "       Avg_age     Customer_main_type  Avg_Salary  label  \\\n",
       "0  30-40 years  Family with grown ups       44905      0   \n",
       "1  30-40 years  Family with grown ups       37575      0   \n",
       "2  30-40 years  Family with grown ups       27915      0   \n",
       "3  40-50 years         Average Family       19504      0   \n",
       "4  30-40 years                Farmers       34943      0   \n",
       "\n",
       "   idx_Customer_subtype  idx_Avg_age  idx_Customer_main_type          features  \n",
       "0                   0.0          1.0                     0.0   [0.0, 1.0, 0.0]  \n",
       "1                  18.0          1.0                     0.0  [18.0, 1.0, 0.0]  \n",
       "2                  18.0          1.0                     0.0  [18.0, 1.0, 0.0]  \n",
       "3                   4.0          0.0                     1.0   [4.0, 0.0, 1.0]  \n",
       "4                  25.0          1.0                     7.0  [25.0, 1.0, 7.0]  "
      ]
     },
     "execution_count": 161,
     "metadata": {},
     "output_type": "execute_result"
    }
   ],
   "source": [
    "pandasDF = new_df.toPandas()\n",
    "pandasDF.head()"
   ]
  },
  {
   "cell_type": "code",
   "execution_count": null,
   "metadata": {},
   "outputs": [],
   "source": []
  },
  {
   "cell_type": "code",
   "execution_count": 162,
   "metadata": {},
   "outputs": [],
   "source": [
    "#dfb=new_df.select(*inputCols)"
   ]
  },
  {
   "cell_type": "code",
   "execution_count": 165,
   "metadata": {},
   "outputs": [],
   "source": [
    "dfb=new_df"
   ]
  },
  {
   "cell_type": "code",
   "execution_count": 166,
   "metadata": {},
   "outputs": [
    {
     "name": "stdout",
     "output_type": "stream",
     "text": [
      "+--------------------+----------------+------------------+-----------+--------------------+----------+-----+--------------------+-----------+----------------------+--------------+\n",
      "|    Customer_subtype|Number_of_houses|Avg_size_household|    Avg_age|  Customer_main_type|Avg_Salary|label|idx_Customer_subtype|idx_Avg_age|idx_Customer_main_type|      features|\n",
      "+--------------------+----------------+------------------+-----------+--------------------+----------+-----+--------------------+-----------+----------------------+--------------+\n",
      "|Lower class large...|               1|                 3|30-40 years|Family with grown...|     44905|    0|                 0.0|        1.0|                   0.0| [0.0,1.0,0.0]|\n",
      "|Mixed small town ...|               1|                 2|30-40 years|Family with grown...|     37575|    0|                18.0|        1.0|                   0.0|[18.0,1.0,0.0]|\n",
      "|Mixed small town ...|               1|                 2|30-40 years|Family with grown...|     27915|    0|                18.0|        1.0|                   0.0|[18.0,1.0,0.0]|\n",
      "|Modern, complete ...|               1|                 3|40-50 years|      Average Family|     19504|    0|                 4.0|        0.0|                   1.0| [4.0,0.0,1.0]|\n",
      "|  Large family farms|               1|                 4|30-40 years|             Farmers|     34943|    0|                25.0|        1.0|                   7.0|[25.0,1.0,7.0]|\n",
      "+--------------------+----------------+------------------+-----------+--------------------+----------+-----+--------------------+-----------+----------------------+--------------+\n",
      "only showing top 5 rows\n",
      "\n"
     ]
    }
   ],
   "source": [
    "dfb.show(5)"
   ]
  },
  {
   "cell_type": "code",
   "execution_count": 169,
   "metadata": {},
   "outputs": [
    {
     "name": "stdout",
     "output_type": "stream",
     "text": [
      "root\n",
      " |-- Customer_subtype: string (nullable = true)\n",
      " |-- Number_of_houses: integer (nullable = true)\n",
      " |-- Avg_size_household: integer (nullable = true)\n",
      " |-- Avg_age: string (nullable = true)\n",
      " |-- Customer_main_type: string (nullable = true)\n",
      " |-- Avg_Salary: integer (nullable = true)\n",
      " |-- label: integer (nullable = true)\n",
      " |-- idx_Customer_subtype: double (nullable = false)\n",
      " |-- idx_Avg_age: double (nullable = false)\n",
      " |-- idx_Customer_main_type: double (nullable = false)\n",
      " |-- features: vector (nullable = true)\n",
      " |-- total_outliers: integer (nullable = false)\n",
      "\n"
     ]
    }
   ],
   "source": [
    "new_df_b = find_outliers(dfb,inputCols)\n",
    "new_df_b.printSchema()"
   ]
  },
  {
   "cell_type": "code",
   "execution_count": 192,
   "metadata": {},
   "outputs": [
    {
     "data": {
      "text/html": [
       "<div>\n",
       "<style scoped>\n",
       "    .dataframe tbody tr th:only-of-type {\n",
       "        vertical-align: middle;\n",
       "    }\n",
       "\n",
       "    .dataframe tbody tr th {\n",
       "        vertical-align: top;\n",
       "    }\n",
       "\n",
       "    .dataframe thead th {\n",
       "        text-align: right;\n",
       "    }\n",
       "</style>\n",
       "<table border=\"1\" class=\"dataframe\">\n",
       "  <thead>\n",
       "    <tr style=\"text-align: right;\">\n",
       "      <th></th>\n",
       "      <th>Customer_subtype</th>\n",
       "      <th>Number_of_houses</th>\n",
       "      <th>Avg_size_household</th>\n",
       "      <th>Avg_age</th>\n",
       "      <th>Customer_main_type</th>\n",
       "      <th>Avg_Salary</th>\n",
       "      <th>label</th>\n",
       "      <th>idx_Customer_subtype</th>\n",
       "      <th>idx_Avg_age</th>\n",
       "      <th>idx_Customer_main_type</th>\n",
       "      <th>features</th>\n",
       "      <th>total_outliers</th>\n",
       "    </tr>\n",
       "  </thead>\n",
       "  <tbody>\n",
       "    <tr>\n",
       "      <th>0</th>\n",
       "      <td>Lower class large families</td>\n",
       "      <td>1</td>\n",
       "      <td>3</td>\n",
       "      <td>30-40 years</td>\n",
       "      <td>Family with grown ups</td>\n",
       "      <td>44905</td>\n",
       "      <td>0</td>\n",
       "      <td>0.0</td>\n",
       "      <td>1.0</td>\n",
       "      <td>0.0</td>\n",
       "      <td>[0.0, 1.0, 0.0]</td>\n",
       "      <td>0</td>\n",
       "    </tr>\n",
       "    <tr>\n",
       "      <th>1</th>\n",
       "      <td>Mixed small town dwellers</td>\n",
       "      <td>1</td>\n",
       "      <td>2</td>\n",
       "      <td>30-40 years</td>\n",
       "      <td>Family with grown ups</td>\n",
       "      <td>37575</td>\n",
       "      <td>0</td>\n",
       "      <td>18.0</td>\n",
       "      <td>1.0</td>\n",
       "      <td>0.0</td>\n",
       "      <td>[18.0, 1.0, 0.0]</td>\n",
       "      <td>0</td>\n",
       "    </tr>\n",
       "    <tr>\n",
       "      <th>2</th>\n",
       "      <td>Mixed small town dwellers</td>\n",
       "      <td>1</td>\n",
       "      <td>2</td>\n",
       "      <td>30-40 years</td>\n",
       "      <td>Family with grown ups</td>\n",
       "      <td>27915</td>\n",
       "      <td>0</td>\n",
       "      <td>18.0</td>\n",
       "      <td>1.0</td>\n",
       "      <td>0.0</td>\n",
       "      <td>[18.0, 1.0, 0.0]</td>\n",
       "      <td>0</td>\n",
       "    </tr>\n",
       "    <tr>\n",
       "      <th>3</th>\n",
       "      <td>Modern, complete families</td>\n",
       "      <td>1</td>\n",
       "      <td>3</td>\n",
       "      <td>40-50 years</td>\n",
       "      <td>Average Family</td>\n",
       "      <td>19504</td>\n",
       "      <td>0</td>\n",
       "      <td>4.0</td>\n",
       "      <td>0.0</td>\n",
       "      <td>1.0</td>\n",
       "      <td>[4.0, 0.0, 1.0]</td>\n",
       "      <td>0</td>\n",
       "    </tr>\n",
       "    <tr>\n",
       "      <th>4</th>\n",
       "      <td>Large family farms</td>\n",
       "      <td>1</td>\n",
       "      <td>4</td>\n",
       "      <td>30-40 years</td>\n",
       "      <td>Farmers</td>\n",
       "      <td>34943</td>\n",
       "      <td>0</td>\n",
       "      <td>25.0</td>\n",
       "      <td>1.0</td>\n",
       "      <td>7.0</td>\n",
       "      <td>[25.0, 1.0, 7.0]</td>\n",
       "      <td>0</td>\n",
       "    </tr>\n",
       "  </tbody>\n",
       "</table>\n",
       "</div>"
      ],
      "text/plain": [
       "             Customer_subtype  Number_of_houses  Avg_size_household  \\\n",
       "0  Lower class large families                 1                   3   \n",
       "1   Mixed small town dwellers                 1                   2   \n",
       "2   Mixed small town dwellers                 1                   2   \n",
       "3   Modern, complete families                 1                   3   \n",
       "4          Large family farms                 1                   4   \n",
       "\n",
       "       Avg_age     Customer_main_type  Avg_Salary  label  \\\n",
       "0  30-40 years  Family with grown ups       44905      0   \n",
       "1  30-40 years  Family with grown ups       37575      0   \n",
       "2  30-40 years  Family with grown ups       27915      0   \n",
       "3  40-50 years         Average Family       19504      0   \n",
       "4  30-40 years                Farmers       34943      0   \n",
       "\n",
       "   idx_Customer_subtype  idx_Avg_age  idx_Customer_main_type  \\\n",
       "0                   0.0          1.0                     0.0   \n",
       "1                  18.0          1.0                     0.0   \n",
       "2                  18.0          1.0                     0.0   \n",
       "3                   4.0          0.0                     1.0   \n",
       "4                  25.0          1.0                     7.0   \n",
       "\n",
       "           features  total_outliers  \n",
       "0   [0.0, 1.0, 0.0]               0  \n",
       "1  [18.0, 1.0, 0.0]               0  \n",
       "2  [18.0, 1.0, 0.0]               0  \n",
       "3   [4.0, 0.0, 1.0]               0  \n",
       "4  [25.0, 1.0, 7.0]               0  "
      ]
     },
     "execution_count": 192,
     "metadata": {},
     "output_type": "execute_result"
    }
   ],
   "source": [
    "pandasDFb = new_df_b.toPandas()\n",
    "pandasDFb.head()"
   ]
  },
  {
   "cell_type": "code",
   "execution_count": 171,
   "metadata": {},
   "outputs": [
    {
     "data": {
      "text/html": [
       "<div>\n",
       "<style scoped>\n",
       "    .dataframe tbody tr th:only-of-type {\n",
       "        vertical-align: middle;\n",
       "    }\n",
       "\n",
       "    .dataframe tbody tr th {\n",
       "        vertical-align: top;\n",
       "    }\n",
       "\n",
       "    .dataframe thead th {\n",
       "        text-align: right;\n",
       "    }\n",
       "</style>\n",
       "<table border=\"1\" class=\"dataframe\">\n",
       "  <thead>\n",
       "    <tr style=\"text-align: right;\">\n",
       "      <th></th>\n",
       "      <th>Customer_subtype</th>\n",
       "      <th>Number_of_houses</th>\n",
       "      <th>Avg_size_household</th>\n",
       "      <th>Avg_age</th>\n",
       "      <th>Customer_main_type</th>\n",
       "      <th>Avg_Salary</th>\n",
       "      <th>label</th>\n",
       "      <th>idx_Customer_subtype</th>\n",
       "      <th>idx_Avg_age</th>\n",
       "      <th>idx_Customer_main_type</th>\n",
       "      <th>features</th>\n",
       "      <th>total_outliers</th>\n",
       "    </tr>\n",
       "  </thead>\n",
       "  <tbody>\n",
       "    <tr>\n",
       "      <th>5</th>\n",
       "      <td>Young and rising</td>\n",
       "      <td>1</td>\n",
       "      <td>2</td>\n",
       "      <td>20-30 years</td>\n",
       "      <td>Living well</td>\n",
       "      <td>13064</td>\n",
       "      <td>0</td>\n",
       "      <td>6.0</td>\n",
       "      <td>4.0</td>\n",
       "      <td>5.0</td>\n",
       "      <td>[6.0, 4.0, 5.0]</td>\n",
       "      <td>1</td>\n",
       "    </tr>\n",
       "    <tr>\n",
       "      <th>63</th>\n",
       "      <td>Young and rising</td>\n",
       "      <td>2</td>\n",
       "      <td>1</td>\n",
       "      <td>20-30 years</td>\n",
       "      <td>Living well</td>\n",
       "      <td>28875</td>\n",
       "      <td>0</td>\n",
       "      <td>6.0</td>\n",
       "      <td>4.0</td>\n",
       "      <td>5.0</td>\n",
       "      <td>[6.0, 4.0, 5.0]</td>\n",
       "      <td>1</td>\n",
       "    </tr>\n",
       "    <tr>\n",
       "      <th>69</th>\n",
       "      <td>Porchless seniors: no front yard</td>\n",
       "      <td>1</td>\n",
       "      <td>2</td>\n",
       "      <td>60-70 years</td>\n",
       "      <td>Retired and Religious</td>\n",
       "      <td>31553</td>\n",
       "      <td>0</td>\n",
       "      <td>24.0</td>\n",
       "      <td>3.0</td>\n",
       "      <td>3.0</td>\n",
       "      <td>[24.0, 3.0, 3.0]</td>\n",
       "      <td>1</td>\n",
       "    </tr>\n",
       "    <tr>\n",
       "      <th>71</th>\n",
       "      <td>Young seniors in the city</td>\n",
       "      <td>1</td>\n",
       "      <td>2</td>\n",
       "      <td>60-70 years</td>\n",
       "      <td>Cruising Seniors</td>\n",
       "      <td>10511</td>\n",
       "      <td>0</td>\n",
       "      <td>26.0</td>\n",
       "      <td>3.0</td>\n",
       "      <td>8.0</td>\n",
       "      <td>[26.0, 3.0, 8.0]</td>\n",
       "      <td>1</td>\n",
       "    </tr>\n",
       "    <tr>\n",
       "      <th>84</th>\n",
       "      <td>Young and rising</td>\n",
       "      <td>1</td>\n",
       "      <td>2</td>\n",
       "      <td>20-30 years</td>\n",
       "      <td>Living well</td>\n",
       "      <td>37780</td>\n",
       "      <td>0</td>\n",
       "      <td>6.0</td>\n",
       "      <td>4.0</td>\n",
       "      <td>5.0</td>\n",
       "      <td>[6.0, 4.0, 5.0]</td>\n",
       "      <td>1</td>\n",
       "    </tr>\n",
       "    <tr>\n",
       "      <th>...</th>\n",
       "      <td>...</td>\n",
       "      <td>...</td>\n",
       "      <td>...</td>\n",
       "      <td>...</td>\n",
       "      <td>...</td>\n",
       "      <td>...</td>\n",
       "      <td>...</td>\n",
       "      <td>...</td>\n",
       "      <td>...</td>\n",
       "      <td>...</td>\n",
       "      <td>...</td>\n",
       "      <td>...</td>\n",
       "    </tr>\n",
       "    <tr>\n",
       "      <th>1888</th>\n",
       "      <td>Young and rising</td>\n",
       "      <td>1</td>\n",
       "      <td>2</td>\n",
       "      <td>20-30 years</td>\n",
       "      <td>Living well</td>\n",
       "      <td>13647</td>\n",
       "      <td>0</td>\n",
       "      <td>6.0</td>\n",
       "      <td>4.0</td>\n",
       "      <td>5.0</td>\n",
       "      <td>[6.0, 4.0, 5.0]</td>\n",
       "      <td>1</td>\n",
       "    </tr>\n",
       "    <tr>\n",
       "      <th>1899</th>\n",
       "      <td>Own home elderly</td>\n",
       "      <td>1</td>\n",
       "      <td>1</td>\n",
       "      <td>60-70 years</td>\n",
       "      <td>Cruising Seniors</td>\n",
       "      <td>22087</td>\n",
       "      <td>0</td>\n",
       "      <td>30.0</td>\n",
       "      <td>3.0</td>\n",
       "      <td>8.0</td>\n",
       "      <td>[30.0, 3.0, 8.0]</td>\n",
       "      <td>1</td>\n",
       "    </tr>\n",
       "    <tr>\n",
       "      <th>1925</th>\n",
       "      <td>Own home elderly</td>\n",
       "      <td>1</td>\n",
       "      <td>2</td>\n",
       "      <td>60-70 years</td>\n",
       "      <td>Cruising Seniors</td>\n",
       "      <td>21040</td>\n",
       "      <td>0</td>\n",
       "      <td>30.0</td>\n",
       "      <td>3.0</td>\n",
       "      <td>8.0</td>\n",
       "      <td>[30.0, 3.0, 8.0]</td>\n",
       "      <td>1</td>\n",
       "    </tr>\n",
       "    <tr>\n",
       "      <th>1953</th>\n",
       "      <td>Mixed seniors</td>\n",
       "      <td>1</td>\n",
       "      <td>1</td>\n",
       "      <td>70-80 years</td>\n",
       "      <td>Successful hedonists</td>\n",
       "      <td>15518</td>\n",
       "      <td>0</td>\n",
       "      <td>9.0</td>\n",
       "      <td>5.0</td>\n",
       "      <td>4.0</td>\n",
       "      <td>[9.0, 5.0, 4.0]</td>\n",
       "      <td>1</td>\n",
       "    </tr>\n",
       "    <tr>\n",
       "      <th>1956</th>\n",
       "      <td>Mixed seniors</td>\n",
       "      <td>1</td>\n",
       "      <td>2</td>\n",
       "      <td>60-70 years</td>\n",
       "      <td>Retired and Religious</td>\n",
       "      <td>36748</td>\n",
       "      <td>0</td>\n",
       "      <td>9.0</td>\n",
       "      <td>3.0</td>\n",
       "      <td>3.0</td>\n",
       "      <td>[9.0, 3.0, 3.0]</td>\n",
       "      <td>1</td>\n",
       "    </tr>\n",
       "  </tbody>\n",
       "</table>\n",
       "<p>103 rows × 12 columns</p>\n",
       "</div>"
      ],
      "text/plain": [
       "                      Customer_subtype  Number_of_houses  Avg_size_household  \\\n",
       "5                     Young and rising                 1                   2   \n",
       "63                    Young and rising                 2                   1   \n",
       "69    Porchless seniors: no front yard                 1                   2   \n",
       "71           Young seniors in the city                 1                   2   \n",
       "84                    Young and rising                 1                   2   \n",
       "...                                ...               ...                 ...   \n",
       "1888                  Young and rising                 1                   2   \n",
       "1899                  Own home elderly                 1                   1   \n",
       "1925                  Own home elderly                 1                   2   \n",
       "1953                     Mixed seniors                 1                   1   \n",
       "1956                     Mixed seniors                 1                   2   \n",
       "\n",
       "          Avg_age     Customer_main_type  Avg_Salary  label  \\\n",
       "5     20-30 years            Living well       13064      0   \n",
       "63    20-30 years            Living well       28875      0   \n",
       "69    60-70 years  Retired and Religious       31553      0   \n",
       "71    60-70 years       Cruising Seniors       10511      0   \n",
       "84    20-30 years            Living well       37780      0   \n",
       "...           ...                    ...         ...    ...   \n",
       "1888  20-30 years            Living well       13647      0   \n",
       "1899  60-70 years       Cruising Seniors       22087      0   \n",
       "1925  60-70 years       Cruising Seniors       21040      0   \n",
       "1953  70-80 years   Successful hedonists       15518      0   \n",
       "1956  60-70 years  Retired and Religious       36748      0   \n",
       "\n",
       "      idx_Customer_subtype  idx_Avg_age  idx_Customer_main_type  \\\n",
       "5                      6.0          4.0                     5.0   \n",
       "63                     6.0          4.0                     5.0   \n",
       "69                    24.0          3.0                     3.0   \n",
       "71                    26.0          3.0                     8.0   \n",
       "84                     6.0          4.0                     5.0   \n",
       "...                    ...          ...                     ...   \n",
       "1888                   6.0          4.0                     5.0   \n",
       "1899                  30.0          3.0                     8.0   \n",
       "1925                  30.0          3.0                     8.0   \n",
       "1953                   9.0          5.0                     4.0   \n",
       "1956                   9.0          3.0                     3.0   \n",
       "\n",
       "              features  total_outliers  \n",
       "5      [6.0, 4.0, 5.0]               1  \n",
       "63     [6.0, 4.0, 5.0]               1  \n",
       "69    [24.0, 3.0, 3.0]               1  \n",
       "71    [26.0, 3.0, 8.0]               1  \n",
       "84     [6.0, 4.0, 5.0]               1  \n",
       "...                ...             ...  \n",
       "1888   [6.0, 4.0, 5.0]               1  \n",
       "1899  [30.0, 3.0, 8.0]               1  \n",
       "1925  [30.0, 3.0, 8.0]               1  \n",
       "1953   [9.0, 5.0, 4.0]               1  \n",
       "1956   [9.0, 3.0, 3.0]               1  \n",
       "\n",
       "[103 rows x 12 columns]"
      ]
     },
     "execution_count": 171,
     "metadata": {},
     "output_type": "execute_result"
    }
   ],
   "source": [
    "pandasDFb[pandasDFb[\"total_outliers\"] > 0]"
   ]
  },
  {
   "cell_type": "code",
   "execution_count": 195,
   "metadata": {},
   "outputs": [
    {
     "data": {
      "text/html": [
       "<div>\n",
       "<style scoped>\n",
       "    .dataframe tbody tr th:only-of-type {\n",
       "        vertical-align: middle;\n",
       "    }\n",
       "\n",
       "    .dataframe tbody tr th {\n",
       "        vertical-align: top;\n",
       "    }\n",
       "\n",
       "    .dataframe thead th {\n",
       "        text-align: right;\n",
       "    }\n",
       "</style>\n",
       "<table border=\"1\" class=\"dataframe\">\n",
       "  <thead>\n",
       "    <tr style=\"text-align: right;\">\n",
       "      <th></th>\n",
       "      <th>Customer_subtype</th>\n",
       "      <th>Number_of_houses</th>\n",
       "      <th>Avg_size_household</th>\n",
       "      <th>Avg_age</th>\n",
       "      <th>Customer_main_type</th>\n",
       "      <th>Avg_Salary</th>\n",
       "      <th>label</th>\n",
       "      <th>idx_Customer_subtype</th>\n",
       "      <th>idx_Avg_age</th>\n",
       "      <th>idx_Customer_main_type</th>\n",
       "      <th>features</th>\n",
       "      <th>total_outliers</th>\n",
       "    </tr>\n",
       "  </thead>\n",
       "  <tbody>\n",
       "    <tr>\n",
       "      <th>0</th>\n",
       "      <td>Lower class large families</td>\n",
       "      <td>1</td>\n",
       "      <td>3</td>\n",
       "      <td>30-40 years</td>\n",
       "      <td>Family with grown ups</td>\n",
       "      <td>44905</td>\n",
       "      <td>0</td>\n",
       "      <td>0.0</td>\n",
       "      <td>1.0</td>\n",
       "      <td>0.0</td>\n",
       "      <td>[0.0, 1.0, 0.0]</td>\n",
       "      <td>0</td>\n",
       "    </tr>\n",
       "    <tr>\n",
       "      <th>1</th>\n",
       "      <td>Mixed small town dwellers</td>\n",
       "      <td>1</td>\n",
       "      <td>2</td>\n",
       "      <td>30-40 years</td>\n",
       "      <td>Family with grown ups</td>\n",
       "      <td>37575</td>\n",
       "      <td>0</td>\n",
       "      <td>18.0</td>\n",
       "      <td>1.0</td>\n",
       "      <td>0.0</td>\n",
       "      <td>[18.0, 1.0, 0.0]</td>\n",
       "      <td>0</td>\n",
       "    </tr>\n",
       "    <tr>\n",
       "      <th>2</th>\n",
       "      <td>Mixed small town dwellers</td>\n",
       "      <td>1</td>\n",
       "      <td>2</td>\n",
       "      <td>30-40 years</td>\n",
       "      <td>Family with grown ups</td>\n",
       "      <td>27915</td>\n",
       "      <td>0</td>\n",
       "      <td>18.0</td>\n",
       "      <td>1.0</td>\n",
       "      <td>0.0</td>\n",
       "      <td>[18.0, 1.0, 0.0]</td>\n",
       "      <td>0</td>\n",
       "    </tr>\n",
       "    <tr>\n",
       "      <th>3</th>\n",
       "      <td>Modern, complete families</td>\n",
       "      <td>1</td>\n",
       "      <td>3</td>\n",
       "      <td>40-50 years</td>\n",
       "      <td>Average Family</td>\n",
       "      <td>19504</td>\n",
       "      <td>0</td>\n",
       "      <td>4.0</td>\n",
       "      <td>0.0</td>\n",
       "      <td>1.0</td>\n",
       "      <td>[4.0, 0.0, 1.0]</td>\n",
       "      <td>0</td>\n",
       "    </tr>\n",
       "    <tr>\n",
       "      <th>4</th>\n",
       "      <td>Large family farms</td>\n",
       "      <td>1</td>\n",
       "      <td>4</td>\n",
       "      <td>30-40 years</td>\n",
       "      <td>Farmers</td>\n",
       "      <td>34943</td>\n",
       "      <td>0</td>\n",
       "      <td>25.0</td>\n",
       "      <td>1.0</td>\n",
       "      <td>7.0</td>\n",
       "      <td>[25.0, 1.0, 7.0]</td>\n",
       "      <td>0</td>\n",
       "    </tr>\n",
       "  </tbody>\n",
       "</table>\n",
       "</div>"
      ],
      "text/plain": [
       "             Customer_subtype  Number_of_houses  Avg_size_household  \\\n",
       "0  Lower class large families                 1                   3   \n",
       "1   Mixed small town dwellers                 1                   2   \n",
       "2   Mixed small town dwellers                 1                   2   \n",
       "3   Modern, complete families                 1                   3   \n",
       "4          Large family farms                 1                   4   \n",
       "\n",
       "       Avg_age     Customer_main_type  Avg_Salary  label  \\\n",
       "0  30-40 years  Family with grown ups       44905      0   \n",
       "1  30-40 years  Family with grown ups       37575      0   \n",
       "2  30-40 years  Family with grown ups       27915      0   \n",
       "3  40-50 years         Average Family       19504      0   \n",
       "4  30-40 years                Farmers       34943      0   \n",
       "\n",
       "   idx_Customer_subtype  idx_Avg_age  idx_Customer_main_type  \\\n",
       "0                   0.0          1.0                     0.0   \n",
       "1                  18.0          1.0                     0.0   \n",
       "2                  18.0          1.0                     0.0   \n",
       "3                   4.0          0.0                     1.0   \n",
       "4                  25.0          1.0                     7.0   \n",
       "\n",
       "           features  total_outliers  \n",
       "0   [0.0, 1.0, 0.0]               0  \n",
       "1  [18.0, 1.0, 0.0]               0  \n",
       "2  [18.0, 1.0, 0.0]               0  \n",
       "3   [4.0, 0.0, 1.0]               0  \n",
       "4  [25.0, 1.0, 7.0]               0  "
      ]
     },
     "execution_count": 195,
     "metadata": {},
     "output_type": "execute_result"
    }
   ],
   "source": [
    "pandasDFb.head()"
   ]
  },
  {
   "cell_type": "code",
   "execution_count": 226,
   "metadata": {},
   "outputs": [
    {
     "name": "stdout",
     "output_type": "stream",
     "text": [
      "(0, 'idx_Customer_subtype')\n",
      "(1, 'idx_Avg_age')\n",
      "(2, 'idx_Customer_main_type')\n"
     ]
    },
    {
     "data": {
      "image/png": "[encoded data removed]",
      "text/plain": [
       "<Figure size 800x500 with 3 Axes>"
      ]
     },
     "metadata": {},
     "output_type": "display_data"
    }
   ],
   "source": [
    "data=pandasDFb\n",
    "size_columns=len(inputCols)\n",
    "fig,ax = plt.subplots(1,size_columns,figsize=(8,5))\n",
    "for i in enumerate(inputCols):\n",
    "    print(i)\n",
    "    sns.boxplot(data=data, y=i[1],ax=ax[i[0]])"
   ]
  },
  {
   "cell_type": "code",
   "execution_count": 230,
   "metadata": {},
   "outputs": [
    {
     "data": {
      "text/plain": [
       "['idx_Customer_subtype', 'idx_Avg_age', 'idx_Customer_main_type']"
      ]
     },
     "execution_count": 230,
     "metadata": {},
     "output_type": "execute_result"
    }
   ],
   "source": [
    "inputCols"
   ]
  },
  {
   "cell_type": "code",
   "execution_count": 246,
   "metadata": {},
   "outputs": [],
   "source": [
    "def calculate_bounds(df):\n",
    "    bounds = {\n",
    "        c: dict(\n",
    "            zip([\"q1\", \"q3\"], df.approxQuantile(c, [0.25, 0.75], 0))\n",
    "        )\n",
    "        for c,d in zip(df.columns, df.dtypes) if d[1] == \"int\" or d[1]=='double'\n",
    "    }\n",
    "\n",
    "    for c in bounds:\n",
    "        iqr = bounds[c]['q3'] - bounds[c]['q1']\n",
    "        bounds[c]['min'] = bounds[c]['q1'] - (iqr * 1.5)\n",
    "        bounds[c]['max'] = bounds[c]['q3'] + (iqr * 1.5)\n",
    "\n",
    "    return bounds"
   ]
  },
  {
   "cell_type": "code",
   "execution_count": 247,
   "metadata": {},
   "outputs": [
    {
     "data": {
      "text/plain": [
       "{'Number_of_houses': {'q1': 1.0, 'q3': 1.0, 'min': 1.0, 'max': 1.0},\n",
       " 'Avg_size_household': {'q1': 2.0, 'q3': 3.0, 'min': 0.5, 'max': 4.5},\n",
       " 'Avg_Salary': {'q1': 20315.0, 'q3': 42949.0, 'min': -13636.0, 'max': 76900.0},\n",
       " 'label': {'q1': 0.0, 'q3': 0.0, 'min': 0.0, 'max': 0.0}}"
      ]
     },
     "execution_count": 247,
     "metadata": {},
     "output_type": "execute_result"
    }
   ],
   "source": [
    "calculate_bounds(df)"
   ]
  },
  {
   "cell_type": "code",
   "execution_count": 255,
   "metadata": {},
   "outputs": [],
   "source": [
    "dfc=dfb.select(inputCols)"
   ]
  },
  {
   "cell_type": "code",
   "execution_count": 256,
   "metadata": {},
   "outputs": [
    {
     "data": {
      "text/plain": [
       "{'idx_Customer_subtype': {'q1': 2.0, 'q3': 16.0, 'min': -19.0, 'max': 37.0},\n",
       " 'idx_Avg_age': {'q1': 0.0, 'q3': 1.0, 'min': -1.5, 'max': 2.5},\n",
       " 'idx_Customer_main_type': {'q1': 0.0, 'q3': 5.0, 'min': -7.5, 'max': 12.5}}"
      ]
     },
     "execution_count": 256,
     "metadata": {},
     "output_type": "execute_result"
    }
   ],
   "source": [
    "calculate_bounds(dfc)"
   ]
  },
  {
   "cell_type": "code",
   "execution_count": 290,
   "metadata": {},
   "outputs": [],
   "source": [
    "def single_flag_outliers(df, singleCol):\n",
    "    c=singleCol\n",
    "    dfc=df.select(c)\n",
    "    bounds = calculate_bounds(dfc)\n",
    "    outliers = {}\n",
    "    \n",
    "    return df.select(*df.columns,\n",
    "        *[f.when(~f.col(c).between(bounds[c]['min'], bounds[c]['max']),\"yes\").otherwise(\"no\").alias(c+'_outlier')]\n",
    "    )"
   ]
  },
  {
   "cell_type": "code",
   "execution_count": 291,
   "metadata": {},
   "outputs": [
    {
     "data": {
      "text/plain": [
       "'idx_Customer_subtype'"
      ]
     },
     "execution_count": 291,
     "metadata": {},
     "output_type": "execute_result"
    }
   ],
   "source": [
    "inputCols[0]"
   ]
  },
  {
   "cell_type": "code",
   "execution_count": 292,
   "metadata": {
    "scrolled": true
   },
   "outputs": [
    {
     "name": "stdout",
     "output_type": "stream",
     "text": [
      "+--------------------+-----------+----------------------+----------------------------+\n",
      "|idx_Customer_subtype|idx_Avg_age|idx_Customer_main_type|idx_Customer_subtype_outlier|\n",
      "+--------------------+-----------+----------------------+----------------------------+\n",
      "|                 0.0|        1.0|                   0.0|                          no|\n",
      "|                18.0|        1.0|                   0.0|                          no|\n",
      "|                18.0|        1.0|                   0.0|                          no|\n",
      "|                 4.0|        0.0|                   1.0|                          no|\n",
      "|                25.0|        1.0|                   7.0|                          no|\n",
      "+--------------------+-----------+----------------------+----------------------------+\n",
      "only showing top 5 rows\n",
      "\n"
     ]
    }
   ],
   "source": [
    "res=single_flag_outliers(dfc,inputCols[0])\n",
    "res.show(5)"
   ]
  },
  {
   "cell_type": "code",
   "execution_count": 299,
   "metadata": {},
   "outputs": [],
   "source": [
    "def multiple_flag_outliers(df, columns):\n",
    "    dfc=df.select(*columns)\n",
    "    bounds = calculate_bounds(dfc)\n",
    "    outliers = {}\n",
    "    \n",
    "    return df.select(*df.columns,*[\n",
    "        f.when(~f.col(c).between(bounds[c]['min'], bounds[c]['max']),\"yes\").otherwise(\"no\").alias(c+'_outlier') for c in columns\n",
    "    ]\n",
    "    )"
   ]
  },
  {
   "cell_type": "code",
   "execution_count": 300,
   "metadata": {},
   "outputs": [
    {
     "name": "stdout",
     "output_type": "stream",
     "text": [
      "+--------------------+-----------+----------------------+----------------------------+-------------------+------------------------------+\n",
      "|idx_Customer_subtype|idx_Avg_age|idx_Customer_main_type|idx_Customer_subtype_outlier|idx_Avg_age_outlier|idx_Customer_main_type_outlier|\n",
      "+--------------------+-----------+----------------------+----------------------------+-------------------+------------------------------+\n",
      "|                 0.0|        1.0|                   0.0|                          no|                 no|                            no|\n",
      "|                18.0|        1.0|                   0.0|                          no|                 no|                            no|\n",
      "|                18.0|        1.0|                   0.0|                          no|                 no|                            no|\n",
      "|                 4.0|        0.0|                   1.0|                          no|                 no|                            no|\n",
      "|                25.0|        1.0|                   7.0|                          no|                 no|                            no|\n",
      "+--------------------+-----------+----------------------+----------------------------+-------------------+------------------------------+\n",
      "only showing top 5 rows\n",
      "\n"
     ]
    }
   ],
   "source": [
    "res=multiple_flag_outliers(dfc,inputCols)\n",
    "res.show(5)"
   ]
  },
  {
   "cell_type": "code",
   "execution_count": 309,
   "metadata": {},
   "outputs": [
    {
     "name": "stdout",
     "output_type": "stream",
     "text": [
      "+--------------------+-----------+----------------------+----------------------------+-------------------+------------------------------+-------------------+\n",
      "|idx_Customer_subtype|idx_Avg_age|idx_Customer_main_type|idx_Customer_subtype_outlier|idx_Avg_age_outlier|idx_Customer_main_type_outlier|idx_Avg_age_outlier|\n",
      "+--------------------+-----------+----------------------+----------------------------+-------------------+------------------------------+-------------------+\n",
      "|                 6.0|        4.0|                   5.0|                          no|                yes|                            no|                yes|\n",
      "|                 6.0|        4.0|                   5.0|                          no|                yes|                            no|                yes|\n",
      "|                24.0|        3.0|                   3.0|                          no|                yes|                            no|                yes|\n",
      "|                26.0|        3.0|                   8.0|                          no|                yes|                            no|                yes|\n",
      "|                 6.0|        4.0|                   5.0|                          no|                yes|                            no|                yes|\n",
      "|                30.0|        3.0|                   8.0|                          no|                yes|                            no|                yes|\n",
      "|                16.0|        3.0|                   1.0|                          no|                yes|                            no|                yes|\n",
      "|                 6.0|        4.0|                   5.0|                          no|                yes|                            no|                yes|\n",
      "|                 5.0|        3.0|                   0.0|                          no|                yes|                            no|                yes|\n",
      "|                30.0|        3.0|                   8.0|                          no|                yes|                            no|                yes|\n",
      "|                16.0|        3.0|                   1.0|                          no|                yes|                            no|                yes|\n",
      "|                 5.0|        3.0|                   0.0|                          no|                yes|                            no|                yes|\n",
      "|                 1.0|        4.0|                   2.0|                          no|                yes|                            no|                yes|\n",
      "|                 6.0|        4.0|                   5.0|                          no|                yes|                            no|                yes|\n",
      "|                 7.0|        3.0|                   4.0|                          no|                yes|                            no|                yes|\n",
      "|                 9.0|        5.0|                   3.0|                          no|                yes|                            no|                yes|\n",
      "|                24.0|        4.0|                   3.0|                          no|                yes|                            no|                yes|\n",
      "|                31.0|        4.0|                   9.0|                          no|                yes|                            no|                yes|\n",
      "|                 9.0|        3.0|                   3.0|                          no|                yes|                            no|                yes|\n",
      "|                19.0|        3.0|                   3.0|                          no|                yes|                            no|                yes|\n",
      "+--------------------+-----------+----------------------+----------------------------+-------------------+------------------------------+-------------------+\n",
      "only showing top 20 rows\n",
      "\n"
     ]
    }
   ],
   "source": [
    "# specify column names\n",
    "columns = inputCols\n",
    "  \n",
    "# creating a dataframe from the lists of data\n",
    "dataframe = res\n",
    "  \n",
    "# select ID where ID less than 3\n",
    "dataframe.select(*res.columns,'idx_Avg_age_outlier').where(dataframe.idx_Avg_age_outlier == 'yes').show()"
   ]
  },
  {
   "cell_type": "code",
   "execution_count": null,
   "metadata": {},
   "outputs": [],
   "source": []
  },
  {
   "cell_type": "code",
   "execution_count": null,
   "metadata": {},
   "outputs": [],
   "source": []
  },
  {
   "cell_type": "code",
   "execution_count": 301,
   "metadata": {},
   "outputs": [
    {
     "data": {
      "text/html": [
       "<div>\n",
       "<style scoped>\n",
       "    .dataframe tbody tr th:only-of-type {\n",
       "        vertical-align: middle;\n",
       "    }\n",
       "\n",
       "    .dataframe tbody tr th {\n",
       "        vertical-align: top;\n",
       "    }\n",
       "\n",
       "    .dataframe thead th {\n",
       "        text-align: right;\n",
       "    }\n",
       "</style>\n",
       "<table border=\"1\" class=\"dataframe\">\n",
       "  <thead>\n",
       "    <tr style=\"text-align: right;\">\n",
       "      <th></th>\n",
       "      <th>idx_Customer_subtype</th>\n",
       "      <th>idx_Avg_age</th>\n",
       "      <th>idx_Customer_main_type</th>\n",
       "      <th>idx_Customer_subtype_outlier</th>\n",
       "      <th>idx_Avg_age_outlier</th>\n",
       "      <th>idx_Customer_main_type_outlier</th>\n",
       "    </tr>\n",
       "  </thead>\n",
       "  <tbody>\n",
       "    <tr>\n",
       "      <th>0</th>\n",
       "      <td>0.0</td>\n",
       "      <td>1.0</td>\n",
       "      <td>0.0</td>\n",
       "      <td>no</td>\n",
       "      <td>no</td>\n",
       "      <td>no</td>\n",
       "    </tr>\n",
       "    <tr>\n",
       "      <th>1</th>\n",
       "      <td>18.0</td>\n",
       "      <td>1.0</td>\n",
       "      <td>0.0</td>\n",
       "      <td>no</td>\n",
       "      <td>no</td>\n",
       "      <td>no</td>\n",
       "    </tr>\n",
       "    <tr>\n",
       "      <th>2</th>\n",
       "      <td>18.0</td>\n",
       "      <td>1.0</td>\n",
       "      <td>0.0</td>\n",
       "      <td>no</td>\n",
       "      <td>no</td>\n",
       "      <td>no</td>\n",
       "    </tr>\n",
       "    <tr>\n",
       "      <th>3</th>\n",
       "      <td>4.0</td>\n",
       "      <td>0.0</td>\n",
       "      <td>1.0</td>\n",
       "      <td>no</td>\n",
       "      <td>no</td>\n",
       "      <td>no</td>\n",
       "    </tr>\n",
       "    <tr>\n",
       "      <th>4</th>\n",
       "      <td>25.0</td>\n",
       "      <td>1.0</td>\n",
       "      <td>7.0</td>\n",
       "      <td>no</td>\n",
       "      <td>no</td>\n",
       "      <td>no</td>\n",
       "    </tr>\n",
       "  </tbody>\n",
       "</table>\n",
       "</div>"
      ],
      "text/plain": [
       "   idx_Customer_subtype  idx_Avg_age  idx_Customer_main_type  \\\n",
       "0                   0.0          1.0                     0.0   \n",
       "1                  18.0          1.0                     0.0   \n",
       "2                  18.0          1.0                     0.0   \n",
       "3                   4.0          0.0                     1.0   \n",
       "4                  25.0          1.0                     7.0   \n",
       "\n",
       "  idx_Customer_subtype_outlier idx_Avg_age_outlier  \\\n",
       "0                           no                  no   \n",
       "1                           no                  no   \n",
       "2                           no                  no   \n",
       "3                           no                  no   \n",
       "4                           no                  no   \n",
       "\n",
       "  idx_Customer_main_type_outlier  \n",
       "0                             no  \n",
       "1                             no  \n",
       "2                             no  \n",
       "3                             no  \n",
       "4                             no  "
      ]
     },
     "execution_count": 301,
     "metadata": {},
     "output_type": "execute_result"
    }
   ],
   "source": [
    "pandasDFc = res.toPandas()\n",
    "pandasDFc.head()"
   ]
  },
  {
   "cell_type": "code",
   "execution_count": 304,
   "metadata": {},
   "outputs": [],
   "source": [
    "dfd=pandasDFc"
   ]
  },
  {
   "cell_type": "code",
   "execution_count": 307,
   "metadata": {},
   "outputs": [
    {
     "data": {
      "text/html": [
       "<div>\n",
       "<style scoped>\n",
       "    .dataframe tbody tr th:only-of-type {\n",
       "        vertical-align: middle;\n",
       "    }\n",
       "\n",
       "    .dataframe tbody tr th {\n",
       "        vertical-align: top;\n",
       "    }\n",
       "\n",
       "    .dataframe thead th {\n",
       "        text-align: right;\n",
       "    }\n",
       "</style>\n",
       "<table border=\"1\" class=\"dataframe\">\n",
       "  <thead>\n",
       "    <tr style=\"text-align: right;\">\n",
       "      <th></th>\n",
       "      <th>idx_Customer_subtype</th>\n",
       "      <th>idx_Avg_age</th>\n",
       "      <th>idx_Customer_main_type</th>\n",
       "      <th>idx_Customer_subtype_outlier</th>\n",
       "      <th>idx_Avg_age_outlier</th>\n",
       "      <th>idx_Customer_main_type_outlier</th>\n",
       "    </tr>\n",
       "  </thead>\n",
       "  <tbody>\n",
       "    <tr>\n",
       "      <th>5</th>\n",
       "      <td>6.0</td>\n",
       "      <td>4.0</td>\n",
       "      <td>5.0</td>\n",
       "      <td>no</td>\n",
       "      <td>yes</td>\n",
       "      <td>no</td>\n",
       "    </tr>\n",
       "    <tr>\n",
       "      <th>63</th>\n",
       "      <td>6.0</td>\n",
       "      <td>4.0</td>\n",
       "      <td>5.0</td>\n",
       "      <td>no</td>\n",
       "      <td>yes</td>\n",
       "      <td>no</td>\n",
       "    </tr>\n",
       "    <tr>\n",
       "      <th>69</th>\n",
       "      <td>24.0</td>\n",
       "      <td>3.0</td>\n",
       "      <td>3.0</td>\n",
       "      <td>no</td>\n",
       "      <td>yes</td>\n",
       "      <td>no</td>\n",
       "    </tr>\n",
       "    <tr>\n",
       "      <th>71</th>\n",
       "      <td>26.0</td>\n",
       "      <td>3.0</td>\n",
       "      <td>8.0</td>\n",
       "      <td>no</td>\n",
       "      <td>yes</td>\n",
       "      <td>no</td>\n",
       "    </tr>\n",
       "    <tr>\n",
       "      <th>84</th>\n",
       "      <td>6.0</td>\n",
       "      <td>4.0</td>\n",
       "      <td>5.0</td>\n",
       "      <td>no</td>\n",
       "      <td>yes</td>\n",
       "      <td>no</td>\n",
       "    </tr>\n",
       "    <tr>\n",
       "      <th>...</th>\n",
       "      <td>...</td>\n",
       "      <td>...</td>\n",
       "      <td>...</td>\n",
       "      <td>...</td>\n",
       "      <td>...</td>\n",
       "      <td>...</td>\n",
       "    </tr>\n",
       "    <tr>\n",
       "      <th>1888</th>\n",
       "      <td>6.0</td>\n",
       "      <td>4.0</td>\n",
       "      <td>5.0</td>\n",
       "      <td>no</td>\n",
       "      <td>yes</td>\n",
       "      <td>no</td>\n",
       "    </tr>\n",
       "    <tr>\n",
       "      <th>1899</th>\n",
       "      <td>30.0</td>\n",
       "      <td>3.0</td>\n",
       "      <td>8.0</td>\n",
       "      <td>no</td>\n",
       "      <td>yes</td>\n",
       "      <td>no</td>\n",
       "    </tr>\n",
       "    <tr>\n",
       "      <th>1925</th>\n",
       "      <td>30.0</td>\n",
       "      <td>3.0</td>\n",
       "      <td>8.0</td>\n",
       "      <td>no</td>\n",
       "      <td>yes</td>\n",
       "      <td>no</td>\n",
       "    </tr>\n",
       "    <tr>\n",
       "      <th>1953</th>\n",
       "      <td>9.0</td>\n",
       "      <td>5.0</td>\n",
       "      <td>4.0</td>\n",
       "      <td>no</td>\n",
       "      <td>yes</td>\n",
       "      <td>no</td>\n",
       "    </tr>\n",
       "    <tr>\n",
       "      <th>1956</th>\n",
       "      <td>9.0</td>\n",
       "      <td>3.0</td>\n",
       "      <td>3.0</td>\n",
       "      <td>no</td>\n",
       "      <td>yes</td>\n",
       "      <td>no</td>\n",
       "    </tr>\n",
       "  </tbody>\n",
       "</table>\n",
       "<p>103 rows × 6 columns</p>\n",
       "</div>"
      ],
      "text/plain": [
       "      idx_Customer_subtype  idx_Avg_age  idx_Customer_main_type  \\\n",
       "5                      6.0          4.0                     5.0   \n",
       "63                     6.0          4.0                     5.0   \n",
       "69                    24.0          3.0                     3.0   \n",
       "71                    26.0          3.0                     8.0   \n",
       "84                     6.0          4.0                     5.0   \n",
       "...                    ...          ...                     ...   \n",
       "1888                   6.0          4.0                     5.0   \n",
       "1899                  30.0          3.0                     8.0   \n",
       "1925                  30.0          3.0                     8.0   \n",
       "1953                   9.0          5.0                     4.0   \n",
       "1956                   9.0          3.0                     3.0   \n",
       "\n",
       "     idx_Customer_subtype_outlier idx_Avg_age_outlier  \\\n",
       "5                              no                 yes   \n",
       "63                             no                 yes   \n",
       "69                             no                 yes   \n",
       "71                             no                 yes   \n",
       "84                             no                 yes   \n",
       "...                           ...                 ...   \n",
       "1888                           no                 yes   \n",
       "1899                           no                 yes   \n",
       "1925                           no                 yes   \n",
       "1953                           no                 yes   \n",
       "1956                           no                 yes   \n",
       "\n",
       "     idx_Customer_main_type_outlier  \n",
       "5                                no  \n",
       "63                               no  \n",
       "69                               no  \n",
       "71                               no  \n",
       "84                               no  \n",
       "...                             ...  \n",
       "1888                             no  \n",
       "1899                             no  \n",
       "1925                             no  \n",
       "1953                             no  \n",
       "1956                             no  \n",
       "\n",
       "[103 rows x 6 columns]"
      ]
     },
     "execution_count": 307,
     "metadata": {},
     "output_type": "execute_result"
    }
   ],
   "source": [
    "dfd[(dfd.idx_Customer_subtype_outlier == 'yes') | (dfd.idx_Avg_age_outlier == 'yes') | (dfd.idx_Customer_main_type_outlier == 'yes')]\n"
   ]
  },
  {
   "cell_type": "markdown",
   "metadata": {},
   "source": [
    "# Cleaning Dataset Optional"
   ]
  },
  {
   "cell_type": "code",
   "execution_count": 91,
   "metadata": {},
   "outputs": [],
   "source": [
    "### USER DEFINED FUNCTION: OUTLIER TREATMENT USING CAPPING & FLOORING ###\n",
    "\n",
    "from pyspark.sql.functions import when\n",
    "from time import *\n",
    "\n",
    "def outlier_capping_flooring(df,var_list,flooring_pct,capping_pct):\n",
    "    \n",
    "    outlier_start_time = time()  \n",
    " \n",
    "  # Creating A Copy of Source Data Frame\n",
    "    raw_data_treated = df\n",
    "  \n",
    "  # Performing Outlier Treatment\n",
    "    for var in var_list:\n",
    "        lower_bound = raw_data_treated.approxQuantile(var,[flooring_pct],0)[0]\n",
    "        upper_bound = raw_data_treated.approxQuantile(var,[capping_pct],0)[0]\n",
    "        raw_data_treated = raw_data_treated.withColumn(var,\n",
    "                                                       when(raw_data_treated[var] < lower_bound, lower_bound)\n",
    "                                                       .otherwise(raw_data_treated[var]))\n",
    "        raw_data_treated = raw_data_treated.withColumn(var,\n",
    "                                                       when(raw_data_treated[var] > upper_bound, upper_bound)\n",
    "                                                       .otherwise(raw_data_treated[var]))\n",
    "    outlier_end_time = time()\n",
    "    outlier_elapsed_time = (outlier_end_time - outlier_start_time)/60\n",
    "    print(\"\\nTime To Perform Outlier Treatment Using Capping & Flooring: %.3f Minutes\\n\" % outlier_elapsed_time)  \n",
    "    \n",
    "    return(raw_data_treated)"
   ]
  },
  {
   "cell_type": "code",
   "execution_count": 92,
   "metadata": {},
   "outputs": [],
   "source": [
    "### USER DEFINED FUNCTION: OUTLIER TREATMENT USING IQR METHOD ###\n",
    "\n",
    "from pyspark.sql.functions import when\n",
    "from time import *\n",
    "\n",
    "def outlier_iqr(df,var_list, multiplier):\n",
    "    \n",
    "    outlier_start_time = time()  \n",
    " \n",
    "  # Creating A Copy of Source Data Frame\n",
    "    raw_data_treated = df\n",
    "  \n",
    "  # Performing Outlier Treatment\n",
    "    for var in var_list:\n",
    "        quartile_1 = raw_data_treated.approxQuantile(var,[0.25],0)[0]\n",
    "        quartile_3 = raw_data_treated.approxQuantile(var,[0.75],0)[0]\n",
    "        iqr = quartile_3 - quartile_1\n",
    "        lower_bound = quartile_1 - (iqr * multiplier)\n",
    "        upper_bound = quartile_3 + (iqr * multiplier)\n",
    "        raw_data_treated = raw_data_treated.withColumn(var,\n",
    "                                                       when(raw_data_treated[var] < lower_bound, lower_bound)\n",
    "                                                       .otherwise(raw_data_treated[var]))\n",
    "        raw_data_treated = raw_data_treated.withColumn(var,\n",
    "                                                       when(raw_data_treated[var] > upper_bound, upper_bound)\n",
    "                                                       .otherwise(raw_data_treated[var]))\n",
    "    outlier_end_time = time()\n",
    "    outlier_elapsed_time = (outlier_end_time - outlier_start_time)/60\n",
    "    print(\"\\nTime To Perform Outlier Treatment Using IQR Method: %.3f Minutes\\n\" % outlier_elapsed_time)  \n",
    "    \n",
    "    return(raw_data_treated)\n",
    "\n",
    "\n",
    "# In[ ]:"
   ]
  },
  {
   "cell_type": "code",
   "execution_count": 93,
   "metadata": {},
   "outputs": [],
   "source": [
    "### USER DEFINED FUNCTION: MISSING VALUE TREATMENT USING MEAN IMPUTATION ###\n",
    "\n",
    "from pyspark.sql.functions import mean\n",
    "\n",
    "def missing_value_mean(df, var_list):\n",
    "    \n",
    "    missing_value_start_time = time()  \n",
    "  \n",
    "  # Performing Outlier Treatment\n",
    "    mean_dict = df[var_list].select(*[mean(c).alias(c) for c in df[var_list].columns]).toPandas().to_dict('r')[0]\n",
    "    raw_data_treated = df.fillna(mean_dict)\n",
    "    \n",
    "    missing_value_end_time = time()\n",
    "    missing_value_elapsed_time = (missing_value_end_time - missing_value_start_time)/60\n",
    "    print(\"\\nTime To Perform Missing Value Treatment Using Mean Imputation: %.3f Minutes\\n\" % missing_value_elapsed_time)  \n",
    "    \n",
    "    return(raw_data_treated)    \n"
   ]
  },
  {
   "cell_type": "code",
   "execution_count": 94,
   "metadata": {},
   "outputs": [],
   "source": [
    "### USER DEFINED FUNCTION: MISSING VALUE TREATMENT USING MEDIAN IMPUTATION ###\n",
    "\n",
    "import pandas as pd\n",
    "\n",
    "def missing_value_median(df, var_list):\n",
    "    \n",
    "    missing_value_start_time = time()  \n",
    "  \n",
    "  # Performing Outlier Treatment\n",
    "    temp_df = pd.DataFrame()\n",
    "    final_df = pd.DataFrame()\n",
    "    \n",
    "    for col_name in var_list:\n",
    "        temp_df.loc[0,\"Column_Name\"] = col_name\n",
    "        temp_df.loc[0,\"Column_Median\"] = df.approxQuantile(col_name,[0.5],0)\n",
    "        final_df = final_df.append(temp_df)\n",
    "    final_df = final_df.transpose()\n",
    "    final_df.columns = final_df.iloc[0]\n",
    "    final_df = final_df[1:]\n",
    "    final_df.index.name = None\n",
    "    final_df.reset_index(drop=True, inplace=True)\n",
    "    median_dict = final_df.to_dict('r')[0]\n",
    "    \n",
    "    raw_data_treated = df.fillna(median_dict)\n",
    "        \n",
    "    missing_value_end_time = time()\n",
    "    missing_value_elapsed_time = (missing_value_end_time - missing_value_start_time)/60\n",
    "    print(\"\\nTime To Perform Missing Value Treatment Using Median Imputation: %.3f Minutes\\n\" % missing_value_elapsed_time)  \n",
    "    \n",
    "    return(raw_data_treated)"
   ]
  },
  {
   "cell_type": "code",
   "execution_count": 95,
   "metadata": {},
   "outputs": [],
   "source": [
    "#### USER INPUT SECTION ###\n",
    "\n",
    "# Global Variables #\n",
    "raw_data =new_df\n",
    "global_treatment_var_list=inputCols\n",
    "global_outlier_capping_pct = 0.99\n",
    "global_outlier_flooring_pct = 0.01\n",
    "global_outlier_iqr_multiplier = 1.5"
   ]
  },
  {
   "cell_type": "code",
   "execution_count": 96,
   "metadata": {},
   "outputs": [
    {
     "name": "stdout",
     "output_type": "stream",
     "text": [
      "\n",
      "Time To Perform Outlier Treatment Using Capping & Flooring: 0.011 Minutes\n",
      "\n"
     ]
    }
   ],
   "source": [
    "# Outlier Treatment Using Capping & Flooring #\n",
    "treated_data_1 = outlier_capping_flooring(raw_data,\n",
    "                                        global_treatment_var_list,\n",
    "                                        global_outlier_flooring_pct,\n",
    "                                        global_outlier_capping_pct)"
   ]
  },
  {
   "cell_type": "code",
   "execution_count": 97,
   "metadata": {},
   "outputs": [
    {
     "data": {
      "text/html": [
       "<div>\n",
       "<style scoped>\n",
       "    .dataframe tbody tr th:only-of-type {\n",
       "        vertical-align: middle;\n",
       "    }\n",
       "\n",
       "    .dataframe tbody tr th {\n",
       "        vertical-align: top;\n",
       "    }\n",
       "\n",
       "    .dataframe thead th {\n",
       "        text-align: right;\n",
       "    }\n",
       "</style>\n",
       "<table border=\"1\" class=\"dataframe\">\n",
       "  <thead>\n",
       "    <tr style=\"text-align: right;\">\n",
       "      <th></th>\n",
       "      <th>Customer_subtype</th>\n",
       "      <th>Number_of_houses</th>\n",
       "      <th>Avg_size_household</th>\n",
       "      <th>Avg_age</th>\n",
       "      <th>Customer_main_type</th>\n",
       "      <th>Avg_Salary</th>\n",
       "      <th>label</th>\n",
       "      <th>idx_Customer_subtype</th>\n",
       "      <th>idx_Avg_age</th>\n",
       "      <th>idx_Customer_main_type</th>\n",
       "      <th>features</th>\n",
       "    </tr>\n",
       "  </thead>\n",
       "  <tbody>\n",
       "    <tr>\n",
       "      <th>0</th>\n",
       "      <td>Lower class large families</td>\n",
       "      <td>1</td>\n",
       "      <td>3</td>\n",
       "      <td>30-40 years</td>\n",
       "      <td>Family with grown ups</td>\n",
       "      <td>44905</td>\n",
       "      <td>0</td>\n",
       "      <td>0.0</td>\n",
       "      <td>1.0</td>\n",
       "      <td>0.0</td>\n",
       "      <td>[0.0, 1.0, 0.0]</td>\n",
       "    </tr>\n",
       "    <tr>\n",
       "      <th>1</th>\n",
       "      <td>Mixed small town dwellers</td>\n",
       "      <td>1</td>\n",
       "      <td>2</td>\n",
       "      <td>30-40 years</td>\n",
       "      <td>Family with grown ups</td>\n",
       "      <td>37575</td>\n",
       "      <td>0</td>\n",
       "      <td>18.0</td>\n",
       "      <td>1.0</td>\n",
       "      <td>0.0</td>\n",
       "      <td>[18.0, 1.0, 0.0]</td>\n",
       "    </tr>\n",
       "    <tr>\n",
       "      <th>2</th>\n",
       "      <td>Mixed small town dwellers</td>\n",
       "      <td>1</td>\n",
       "      <td>2</td>\n",
       "      <td>30-40 years</td>\n",
       "      <td>Family with grown ups</td>\n",
       "      <td>27915</td>\n",
       "      <td>0</td>\n",
       "      <td>18.0</td>\n",
       "      <td>1.0</td>\n",
       "      <td>0.0</td>\n",
       "      <td>[18.0, 1.0, 0.0]</td>\n",
       "    </tr>\n",
       "    <tr>\n",
       "      <th>3</th>\n",
       "      <td>Modern, complete families</td>\n",
       "      <td>1</td>\n",
       "      <td>3</td>\n",
       "      <td>40-50 years</td>\n",
       "      <td>Average Family</td>\n",
       "      <td>19504</td>\n",
       "      <td>0</td>\n",
       "      <td>4.0</td>\n",
       "      <td>0.0</td>\n",
       "      <td>1.0</td>\n",
       "      <td>[4.0, 0.0, 1.0]</td>\n",
       "    </tr>\n",
       "    <tr>\n",
       "      <th>4</th>\n",
       "      <td>Large family farms</td>\n",
       "      <td>1</td>\n",
       "      <td>4</td>\n",
       "      <td>30-40 years</td>\n",
       "      <td>Farmers</td>\n",
       "      <td>34943</td>\n",
       "      <td>0</td>\n",
       "      <td>25.0</td>\n",
       "      <td>1.0</td>\n",
       "      <td>7.0</td>\n",
       "      <td>[25.0, 1.0, 7.0]</td>\n",
       "    </tr>\n",
       "  </tbody>\n",
       "</table>\n",
       "</div>"
      ],
      "text/plain": [
       "             Customer_subtype  Number_of_houses  Avg_size_household  \\\n",
       "0  Lower class large families                 1                   3   \n",
       "1   Mixed small town dwellers                 1                   2   \n",
       "2   Mixed small town dwellers                 1                   2   \n",
       "3   Modern, complete families                 1                   3   \n",
       "4          Large family farms                 1                   4   \n",
       "\n",
       "       Avg_age     Customer_main_type  Avg_Salary  label  \\\n",
       "0  30-40 years  Family with grown ups       44905      0   \n",
       "1  30-40 years  Family with grown ups       37575      0   \n",
       "2  30-40 years  Family with grown ups       27915      0   \n",
       "3  40-50 years         Average Family       19504      0   \n",
       "4  30-40 years                Farmers       34943      0   \n",
       "\n",
       "   idx_Customer_subtype  idx_Avg_age  idx_Customer_main_type          features  \n",
       "0                   0.0          1.0                     0.0   [0.0, 1.0, 0.0]  \n",
       "1                  18.0          1.0                     0.0  [18.0, 1.0, 0.0]  \n",
       "2                  18.0          1.0                     0.0  [18.0, 1.0, 0.0]  \n",
       "3                   4.0          0.0                     1.0   [4.0, 0.0, 1.0]  \n",
       "4                  25.0          1.0                     7.0  [25.0, 1.0, 7.0]  "
      ]
     },
     "execution_count": 97,
     "metadata": {},
     "output_type": "execute_result"
    }
   ],
   "source": [
    "\n",
    "pd_treated_data_1 = treated_data_1.toPandas()\n",
    "pd_treated_data_1.head()"
   ]
  },
  {
   "cell_type": "code",
   "execution_count": 98,
   "metadata": {},
   "outputs": [
    {
     "name": "stdout",
     "output_type": "stream",
     "text": [
      "\n",
      "Time To Perform Outlier Treatment Using IQR Method: 0.010 Minutes\n",
      "\n"
     ]
    }
   ],
   "source": [
    "# Outlier Treatment Using IQR Method #\n",
    "treated_data_2 = outlier_iqr(raw_data,\n",
    "                             global_treatment_var_list,\n",
    "                             global_outlier_iqr_multiplier)"
   ]
  },
  {
   "cell_type": "code",
   "execution_count": 99,
   "metadata": {},
   "outputs": [
    {
     "data": {
      "text/html": [
       "<div>\n",
       "<style scoped>\n",
       "    .dataframe tbody tr th:only-of-type {\n",
       "        vertical-align: middle;\n",
       "    }\n",
       "\n",
       "    .dataframe tbody tr th {\n",
       "        vertical-align: top;\n",
       "    }\n",
       "\n",
       "    .dataframe thead th {\n",
       "        text-align: right;\n",
       "    }\n",
       "</style>\n",
       "<table border=\"1\" class=\"dataframe\">\n",
       "  <thead>\n",
       "    <tr style=\"text-align: right;\">\n",
       "      <th></th>\n",
       "      <th>Customer_subtype</th>\n",
       "      <th>Number_of_houses</th>\n",
       "      <th>Avg_size_household</th>\n",
       "      <th>Avg_age</th>\n",
       "      <th>Customer_main_type</th>\n",
       "      <th>Avg_Salary</th>\n",
       "      <th>label</th>\n",
       "      <th>idx_Customer_subtype</th>\n",
       "      <th>idx_Avg_age</th>\n",
       "      <th>idx_Customer_main_type</th>\n",
       "      <th>features</th>\n",
       "    </tr>\n",
       "  </thead>\n",
       "  <tbody>\n",
       "    <tr>\n",
       "      <th>0</th>\n",
       "      <td>Lower class large families</td>\n",
       "      <td>1</td>\n",
       "      <td>3</td>\n",
       "      <td>30-40 years</td>\n",
       "      <td>Family with grown ups</td>\n",
       "      <td>44905</td>\n",
       "      <td>0</td>\n",
       "      <td>0.0</td>\n",
       "      <td>1.0</td>\n",
       "      <td>0.0</td>\n",
       "      <td>[0.0, 1.0, 0.0]</td>\n",
       "    </tr>\n",
       "    <tr>\n",
       "      <th>1</th>\n",
       "      <td>Mixed small town dwellers</td>\n",
       "      <td>1</td>\n",
       "      <td>2</td>\n",
       "      <td>30-40 years</td>\n",
       "      <td>Family with grown ups</td>\n",
       "      <td>37575</td>\n",
       "      <td>0</td>\n",
       "      <td>18.0</td>\n",
       "      <td>1.0</td>\n",
       "      <td>0.0</td>\n",
       "      <td>[18.0, 1.0, 0.0]</td>\n",
       "    </tr>\n",
       "    <tr>\n",
       "      <th>2</th>\n",
       "      <td>Mixed small town dwellers</td>\n",
       "      <td>1</td>\n",
       "      <td>2</td>\n",
       "      <td>30-40 years</td>\n",
       "      <td>Family with grown ups</td>\n",
       "      <td>27915</td>\n",
       "      <td>0</td>\n",
       "      <td>18.0</td>\n",
       "      <td>1.0</td>\n",
       "      <td>0.0</td>\n",
       "      <td>[18.0, 1.0, 0.0]</td>\n",
       "    </tr>\n",
       "    <tr>\n",
       "      <th>3</th>\n",
       "      <td>Modern, complete families</td>\n",
       "      <td>1</td>\n",
       "      <td>3</td>\n",
       "      <td>40-50 years</td>\n",
       "      <td>Average Family</td>\n",
       "      <td>19504</td>\n",
       "      <td>0</td>\n",
       "      <td>4.0</td>\n",
       "      <td>0.0</td>\n",
       "      <td>1.0</td>\n",
       "      <td>[4.0, 0.0, 1.0]</td>\n",
       "    </tr>\n",
       "    <tr>\n",
       "      <th>4</th>\n",
       "      <td>Large family farms</td>\n",
       "      <td>1</td>\n",
       "      <td>4</td>\n",
       "      <td>30-40 years</td>\n",
       "      <td>Farmers</td>\n",
       "      <td>34943</td>\n",
       "      <td>0</td>\n",
       "      <td>25.0</td>\n",
       "      <td>1.0</td>\n",
       "      <td>7.0</td>\n",
       "      <td>[25.0, 1.0, 7.0]</td>\n",
       "    </tr>\n",
       "  </tbody>\n",
       "</table>\n",
       "</div>"
      ],
      "text/plain": [
       "             Customer_subtype  Number_of_houses  Avg_size_household  \\\n",
       "0  Lower class large families                 1                   3   \n",
       "1   Mixed small town dwellers                 1                   2   \n",
       "2   Mixed small town dwellers                 1                   2   \n",
       "3   Modern, complete families                 1                   3   \n",
       "4          Large family farms                 1                   4   \n",
       "\n",
       "       Avg_age     Customer_main_type  Avg_Salary  label  \\\n",
       "0  30-40 years  Family with grown ups       44905      0   \n",
       "1  30-40 years  Family with grown ups       37575      0   \n",
       "2  30-40 years  Family with grown ups       27915      0   \n",
       "3  40-50 years         Average Family       19504      0   \n",
       "4  30-40 years                Farmers       34943      0   \n",
       "\n",
       "   idx_Customer_subtype  idx_Avg_age  idx_Customer_main_type          features  \n",
       "0                   0.0          1.0                     0.0   [0.0, 1.0, 0.0]  \n",
       "1                  18.0          1.0                     0.0  [18.0, 1.0, 0.0]  \n",
       "2                  18.0          1.0                     0.0  [18.0, 1.0, 0.0]  \n",
       "3                   4.0          0.0                     1.0   [4.0, 0.0, 1.0]  \n",
       "4                  25.0          1.0                     7.0  [25.0, 1.0, 7.0]  "
      ]
     },
     "execution_count": 99,
     "metadata": {},
     "output_type": "execute_result"
    }
   ],
   "source": [
    "pd_treated_data_2 = treated_data_2.toPandas()\n",
    "pd_treated_data_2.head()"
   ]
  },
  {
   "cell_type": "code",
   "execution_count": 100,
   "metadata": {},
   "outputs": [
    {
     "name": "stdout",
     "output_type": "stream",
     "text": [
      "\n",
      "Time To Perform Missing Value Treatment Using Mean Imputation: 0.005 Minutes\n",
      "\n"
     ]
    },
    {
     "name": "stderr",
     "output_type": "stream",
     "text": [
      "C:\\Users\\rusla\\AppData\\Local\\Temp\\ipykernel_60572\\588799151.py:10: FutureWarning: Using short name for 'orient' is deprecated. Only the options: ('dict', list, 'series', 'split', 'records', 'index') will be used in a future version. Use one of the above to silence this warning.\n",
      "  mean_dict = df[var_list].select(*[mean(c).alias(c) for c in df[var_list].columns]).toPandas().to_dict('r')[0]\n"
     ]
    }
   ],
   "source": [
    "# Missing Value Treatment Using Mean Imputation #\n",
    "treated_data_3 = missing_value_mean(treated_data_1,\n",
    "                                    global_treatment_var_list)"
   ]
  },
  {
   "cell_type": "code",
   "execution_count": 101,
   "metadata": {},
   "outputs": [
    {
     "data": {
      "text/html": [
       "<div>\n",
       "<style scoped>\n",
       "    .dataframe tbody tr th:only-of-type {\n",
       "        vertical-align: middle;\n",
       "    }\n",
       "\n",
       "    .dataframe tbody tr th {\n",
       "        vertical-align: top;\n",
       "    }\n",
       "\n",
       "    .dataframe thead th {\n",
       "        text-align: right;\n",
       "    }\n",
       "</style>\n",
       "<table border=\"1\" class=\"dataframe\">\n",
       "  <thead>\n",
       "    <tr style=\"text-align: right;\">\n",
       "      <th></th>\n",
       "      <th>Customer_subtype</th>\n",
       "      <th>Number_of_houses</th>\n",
       "      <th>Avg_size_household</th>\n",
       "      <th>Avg_age</th>\n",
       "      <th>Customer_main_type</th>\n",
       "      <th>Avg_Salary</th>\n",
       "      <th>label</th>\n",
       "      <th>idx_Customer_subtype</th>\n",
       "      <th>idx_Avg_age</th>\n",
       "      <th>idx_Customer_main_type</th>\n",
       "      <th>features</th>\n",
       "    </tr>\n",
       "  </thead>\n",
       "  <tbody>\n",
       "    <tr>\n",
       "      <th>0</th>\n",
       "      <td>Lower class large families</td>\n",
       "      <td>1</td>\n",
       "      <td>3</td>\n",
       "      <td>30-40 years</td>\n",
       "      <td>Family with grown ups</td>\n",
       "      <td>44905</td>\n",
       "      <td>0</td>\n",
       "      <td>0.0</td>\n",
       "      <td>1.0</td>\n",
       "      <td>0.0</td>\n",
       "      <td>[0.0, 1.0, 0.0]</td>\n",
       "    </tr>\n",
       "    <tr>\n",
       "      <th>1</th>\n",
       "      <td>Mixed small town dwellers</td>\n",
       "      <td>1</td>\n",
       "      <td>2</td>\n",
       "      <td>30-40 years</td>\n",
       "      <td>Family with grown ups</td>\n",
       "      <td>37575</td>\n",
       "      <td>0</td>\n",
       "      <td>18.0</td>\n",
       "      <td>1.0</td>\n",
       "      <td>0.0</td>\n",
       "      <td>[18.0, 1.0, 0.0]</td>\n",
       "    </tr>\n",
       "    <tr>\n",
       "      <th>2</th>\n",
       "      <td>Mixed small town dwellers</td>\n",
       "      <td>1</td>\n",
       "      <td>2</td>\n",
       "      <td>30-40 years</td>\n",
       "      <td>Family with grown ups</td>\n",
       "      <td>27915</td>\n",
       "      <td>0</td>\n",
       "      <td>18.0</td>\n",
       "      <td>1.0</td>\n",
       "      <td>0.0</td>\n",
       "      <td>[18.0, 1.0, 0.0]</td>\n",
       "    </tr>\n",
       "    <tr>\n",
       "      <th>3</th>\n",
       "      <td>Modern, complete families</td>\n",
       "      <td>1</td>\n",
       "      <td>3</td>\n",
       "      <td>40-50 years</td>\n",
       "      <td>Average Family</td>\n",
       "      <td>19504</td>\n",
       "      <td>0</td>\n",
       "      <td>4.0</td>\n",
       "      <td>0.0</td>\n",
       "      <td>1.0</td>\n",
       "      <td>[4.0, 0.0, 1.0]</td>\n",
       "    </tr>\n",
       "    <tr>\n",
       "      <th>4</th>\n",
       "      <td>Large family farms</td>\n",
       "      <td>1</td>\n",
       "      <td>4</td>\n",
       "      <td>30-40 years</td>\n",
       "      <td>Farmers</td>\n",
       "      <td>34943</td>\n",
       "      <td>0</td>\n",
       "      <td>25.0</td>\n",
       "      <td>1.0</td>\n",
       "      <td>7.0</td>\n",
       "      <td>[25.0, 1.0, 7.0]</td>\n",
       "    </tr>\n",
       "  </tbody>\n",
       "</table>\n",
       "</div>"
      ],
      "text/plain": [
       "             Customer_subtype  Number_of_houses  Avg_size_household  \\\n",
       "0  Lower class large families                 1                   3   \n",
       "1   Mixed small town dwellers                 1                   2   \n",
       "2   Mixed small town dwellers                 1                   2   \n",
       "3   Modern, complete families                 1                   3   \n",
       "4          Large family farms                 1                   4   \n",
       "\n",
       "       Avg_age     Customer_main_type  Avg_Salary  label  \\\n",
       "0  30-40 years  Family with grown ups       44905      0   \n",
       "1  30-40 years  Family with grown ups       37575      0   \n",
       "2  30-40 years  Family with grown ups       27915      0   \n",
       "3  40-50 years         Average Family       19504      0   \n",
       "4  30-40 years                Farmers       34943      0   \n",
       "\n",
       "   idx_Customer_subtype  idx_Avg_age  idx_Customer_main_type          features  \n",
       "0                   0.0          1.0                     0.0   [0.0, 1.0, 0.0]  \n",
       "1                  18.0          1.0                     0.0  [18.0, 1.0, 0.0]  \n",
       "2                  18.0          1.0                     0.0  [18.0, 1.0, 0.0]  \n",
       "3                   4.0          0.0                     1.0   [4.0, 0.0, 1.0]  \n",
       "4                  25.0          1.0                     7.0  [25.0, 1.0, 7.0]  "
      ]
     },
     "execution_count": 101,
     "metadata": {},
     "output_type": "execute_result"
    }
   ],
   "source": [
    "pd_treated_data_3 = treated_data_3.toPandas()\n",
    "pd_treated_data_3.head()"
   ]
  },
  {
   "cell_type": "code",
   "execution_count": 102,
   "metadata": {},
   "outputs": [
    {
     "name": "stderr",
     "output_type": "stream",
     "text": [
      "C:\\Users\\rusla\\AppData\\Local\\Temp\\ipykernel_60572\\1441828963.py:16: FutureWarning: The frame.append method is deprecated and will be removed from pandas in a future version. Use pandas.concat instead.\n",
      "  final_df = final_df.append(temp_df)\n",
      "C:\\Users\\rusla\\AppData\\Local\\Temp\\ipykernel_60572\\1441828963.py:16: FutureWarning: The frame.append method is deprecated and will be removed from pandas in a future version. Use pandas.concat instead.\n",
      "  final_df = final_df.append(temp_df)\n"
     ]
    },
    {
     "name": "stdout",
     "output_type": "stream",
     "text": [
      "\n",
      "Time To Perform Missing Value Treatment Using Median Imputation: 0.007 Minutes\n",
      "\n"
     ]
    },
    {
     "name": "stderr",
     "output_type": "stream",
     "text": [
      "C:\\Users\\rusla\\AppData\\Local\\Temp\\ipykernel_60572\\1441828963.py:16: FutureWarning: The frame.append method is deprecated and will be removed from pandas in a future version. Use pandas.concat instead.\n",
      "  final_df = final_df.append(temp_df)\n",
      "C:\\Users\\rusla\\AppData\\Local\\Temp\\ipykernel_60572\\1441828963.py:22: FutureWarning: Using short name for 'orient' is deprecated. Only the options: ('dict', list, 'series', 'split', 'records', 'index') will be used in a future version. Use one of the above to silence this warning.\n",
      "  median_dict = final_df.to_dict('r')[0]\n"
     ]
    }
   ],
   "source": [
    "# Missing Value Treatment Using Median Imputation #\n",
    "treated_data_4 = missing_value_median(treated_data_2,\n",
    "                                      global_treatment_var_list)"
   ]
  },
  {
   "cell_type": "code",
   "execution_count": 103,
   "metadata": {
    "scrolled": true
   },
   "outputs": [
    {
     "data": {
      "text/html": [
       "<div>\n",
       "<style scoped>\n",
       "    .dataframe tbody tr th:only-of-type {\n",
       "        vertical-align: middle;\n",
       "    }\n",
       "\n",
       "    .dataframe tbody tr th {\n",
       "        vertical-align: top;\n",
       "    }\n",
       "\n",
       "    .dataframe thead th {\n",
       "        text-align: right;\n",
       "    }\n",
       "</style>\n",
       "<table border=\"1\" class=\"dataframe\">\n",
       "  <thead>\n",
       "    <tr style=\"text-align: right;\">\n",
       "      <th></th>\n",
       "      <th>Customer_subtype</th>\n",
       "      <th>Number_of_houses</th>\n",
       "      <th>Avg_size_household</th>\n",
       "      <th>Avg_age</th>\n",
       "      <th>Customer_main_type</th>\n",
       "      <th>Avg_Salary</th>\n",
       "      <th>label</th>\n",
       "      <th>idx_Customer_subtype</th>\n",
       "      <th>idx_Avg_age</th>\n",
       "      <th>idx_Customer_main_type</th>\n",
       "      <th>features</th>\n",
       "    </tr>\n",
       "  </thead>\n",
       "  <tbody>\n",
       "    <tr>\n",
       "      <th>0</th>\n",
       "      <td>Lower class large families</td>\n",
       "      <td>1</td>\n",
       "      <td>3</td>\n",
       "      <td>30-40 years</td>\n",
       "      <td>Family with grown ups</td>\n",
       "      <td>44905</td>\n",
       "      <td>0</td>\n",
       "      <td>0.0</td>\n",
       "      <td>1.0</td>\n",
       "      <td>0.0</td>\n",
       "      <td>[0.0, 1.0, 0.0]</td>\n",
       "    </tr>\n",
       "    <tr>\n",
       "      <th>1</th>\n",
       "      <td>Mixed small town dwellers</td>\n",
       "      <td>1</td>\n",
       "      <td>2</td>\n",
       "      <td>30-40 years</td>\n",
       "      <td>Family with grown ups</td>\n",
       "      <td>37575</td>\n",
       "      <td>0</td>\n",
       "      <td>18.0</td>\n",
       "      <td>1.0</td>\n",
       "      <td>0.0</td>\n",
       "      <td>[18.0, 1.0, 0.0]</td>\n",
       "    </tr>\n",
       "    <tr>\n",
       "      <th>2</th>\n",
       "      <td>Mixed small town dwellers</td>\n",
       "      <td>1</td>\n",
       "      <td>2</td>\n",
       "      <td>30-40 years</td>\n",
       "      <td>Family with grown ups</td>\n",
       "      <td>27915</td>\n",
       "      <td>0</td>\n",
       "      <td>18.0</td>\n",
       "      <td>1.0</td>\n",
       "      <td>0.0</td>\n",
       "      <td>[18.0, 1.0, 0.0]</td>\n",
       "    </tr>\n",
       "    <tr>\n",
       "      <th>3</th>\n",
       "      <td>Modern, complete families</td>\n",
       "      <td>1</td>\n",
       "      <td>3</td>\n",
       "      <td>40-50 years</td>\n",
       "      <td>Average Family</td>\n",
       "      <td>19504</td>\n",
       "      <td>0</td>\n",
       "      <td>4.0</td>\n",
       "      <td>0.0</td>\n",
       "      <td>1.0</td>\n",
       "      <td>[4.0, 0.0, 1.0]</td>\n",
       "    </tr>\n",
       "    <tr>\n",
       "      <th>4</th>\n",
       "      <td>Large family farms</td>\n",
       "      <td>1</td>\n",
       "      <td>4</td>\n",
       "      <td>30-40 years</td>\n",
       "      <td>Farmers</td>\n",
       "      <td>34943</td>\n",
       "      <td>0</td>\n",
       "      <td>25.0</td>\n",
       "      <td>1.0</td>\n",
       "      <td>7.0</td>\n",
       "      <td>[25.0, 1.0, 7.0]</td>\n",
       "    </tr>\n",
       "  </tbody>\n",
       "</table>\n",
       "</div>"
      ],
      "text/plain": [
       "             Customer_subtype  Number_of_houses  Avg_size_household  \\\n",
       "0  Lower class large families                 1                   3   \n",
       "1   Mixed small town dwellers                 1                   2   \n",
       "2   Mixed small town dwellers                 1                   2   \n",
       "3   Modern, complete families                 1                   3   \n",
       "4          Large family farms                 1                   4   \n",
       "\n",
       "       Avg_age     Customer_main_type  Avg_Salary  label  \\\n",
       "0  30-40 years  Family with grown ups       44905      0   \n",
       "1  30-40 years  Family with grown ups       37575      0   \n",
       "2  30-40 years  Family with grown ups       27915      0   \n",
       "3  40-50 years         Average Family       19504      0   \n",
       "4  30-40 years                Farmers       34943      0   \n",
       "\n",
       "   idx_Customer_subtype  idx_Avg_age  idx_Customer_main_type          features  \n",
       "0                   0.0          1.0                     0.0   [0.0, 1.0, 0.0]  \n",
       "1                  18.0          1.0                     0.0  [18.0, 1.0, 0.0]  \n",
       "2                  18.0          1.0                     0.0  [18.0, 1.0, 0.0]  \n",
       "3                   4.0          0.0                     1.0   [4.0, 0.0, 1.0]  \n",
       "4                  25.0          1.0                     7.0  [25.0, 1.0, 7.0]  "
      ]
     },
     "execution_count": 103,
     "metadata": {},
     "output_type": "execute_result"
    }
   ],
   "source": [
    "pd_treated_data_4 = treated_data_4.toPandas()\n",
    "pd_treated_data_4.head()"
   ]
  }
 ],
 "metadata": {
  "colab": {
   "name": "Customer Data Outliers pyspark.ipynb",
   "provenance": []
  },
  "kernelspec": {
   "display_name": "Python (Analysis)",
   "language": "python",
   "name": "analysis"
  },
  "language_info": {
   "codemirror_mode": {
    "name": "ipython",
    "version": 3
   },
   "file_extension": ".py",
   "mimetype": "text/x-python",
   "name": "python",
   "nbconvert_exporter": "python",
   "pygments_lexer": "ipython3",
   "version": "3.10.0"
  }
 },
 "nbformat": 4,
 "nbformat_minor": 1
}
